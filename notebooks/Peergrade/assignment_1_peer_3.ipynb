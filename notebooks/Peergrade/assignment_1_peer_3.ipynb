{
 "cells": [
  {
   "cell_type": "code",
   "execution_count": 1,
   "metadata": {
    "id": "klN9CLo6S97r"
   },
   "outputs": [],
   "source": [
    "# Loading environment\n",
    "%matplotlib inline\n",
    "\n",
    "import networkx as nx\n",
    "import matplotlib.pyplot as plt\n",
    "import numpy as np\n",
    "import pandas as pd\n",
    "import random\n",
    "import functools\n",
    "import operator\n",
    "import collections\n",
    "from numpy import random\n",
    "from math import gamma\n"
   ]
  },
  {
   "cell_type": "markdown",
   "metadata": {
    "id": "9DVtYPwBRA4-"
   },
   "source": [
    "# Part 1: Binning degree distributions"
   ]
  },
  {
   "cell_type": "markdown",
   "metadata": {
    "id": "FTfiTlEHR2mX"
   },
   "source": [
    "## Binning Real Numbers\n",
    "\n",
    "#### 1.1) Create 5000 random data points from a Gaussian Distribution with given metrics using the `random` library:\n"
   ]
  },
  {
   "cell_type": "code",
   "execution_count": 2,
   "metadata": {
    "id": "VuabFZwBQrPu"
   },
   "outputs": [],
   "source": [
    "np.random.seed(42)\n",
    "mu = 2\n",
    "sigma = 0.125\n",
    "n = 5000\n",
    "rand = np.random.normal(mu, sigma, n)"
   ]
  },
  {
   "cell_type": "markdown",
   "metadata": {
    "id": "LsdTD7PsTq6_"
   },
   "source": [
    "**Answer:** rand is created that contains the data points"
   ]
  },
  {
   "cell_type": "markdown",
   "metadata": {
    "id": "wKoCHbSATbdb"
   },
   "source": [
    "#### 1.2) Now, let's use `numpy.histogram` to bin those number into 10 bins. What does the `numpy.histogram` function return? Do the two arrays have the same length?"
   ]
  },
  {
   "cell_type": "markdown",
   "metadata": {
    "id": "2N84QByvVdDL"
   },
   "source": [
    "**Answer:**"
   ]
  },
  {
   "cell_type": "code",
   "execution_count": 3,
   "metadata": {
    "id": "eJDTjrteTlQh"
   },
   "outputs": [],
   "source": [
    "# Binning numbers into 10 bins\n",
    "rand_hist = np.histogram(rand, bins=10)"
   ]
  },
  {
   "cell_type": "markdown",
   "metadata": {
    "id": "uImj3AOYULYc"
   },
   "source": [
    "`np.histogram` returns two arrays, one that contains the number of items in each bin (the first one), and one that returns the max value of that given bin (the so-called bin edges, representing the value a particular bin will end at on the x-axis, but exclude).\n",
    "\n",
    "The two arrays will not have the same length: the second array (bin edges) will be 1 unit longer than the first array (counts in each bin), as the starting and end point is also contained in the array of bin edges."
   ]
  },
  {
   "cell_type": "code",
   "execution_count": 4,
   "metadata": {
    "id": "SWFwLaG7UV1w"
   },
   "outputs": [],
   "source": [
    "counts = rand_hist[0]\n",
    "bins = rand_hist[1]"
   ]
  },
  {
   "cell_type": "markdown",
   "metadata": {
    "id": "SbKdiI-GWwZs"
   },
   "source": [
    "#### 1.3) Then we use `matplotlib.pyplot.plot` to plot the binned data. You will have to deal with the fact that the counts- and bin-arrays have different lengths. Explain how you deal with this problem and why"
   ]
  },
  {
   "cell_type": "markdown",
   "metadata": {
    "id": "fHeRrfZzUbAd"
   },
   "source": [
    "**Answer**: We remove the last value in the bin edges, as this identifies the maximum value, located on the right-most point of the first histogram box. This bin is given by the 2nd largest value, as the upper boundary is not necessary. Doing to opposite (removing the minimum value) would result in adding the two lowest bin counts together."
   ]
  },
  {
   "cell_type": "code",
   "execution_count": 5,
   "metadata": {
    "colab": {
     "base_uri": "https://localhost:8080/",
     "height": 295
    },
    "id": "scjIEOU7UioI",
    "outputId": "904e918a-39c0-4680-cee4-e9a3d1869030"
   },
   "outputs": [
    {
     "data": {
      "image/png": "[encoded data removed]",
      "text/plain": [
       "<Figure size 432x288 with 1 Axes>"
      ]
     },
     "metadata": {
      "needs_background": "light"
     },
     "output_type": "display_data"
    }
   ],
   "source": [
    "plt.plot(bins[:-1], counts, drawstyle='steps', color = 'black')\n",
    "plt.title(\"Gaussian Distribution\")\n",
    "plt.xlabel(\"Bins\")\n",
    "plt.ylabel(\"Frequency\")\n",
    "plt.show()"
   ]
  },
  {
   "cell_type": "markdown",
   "metadata": {
    "id": "g-1wR58VZefs"
   },
   "source": [
    "*Figure 1: A histogram of the 5000 random datapoints using Gaussian Distribution, with $\\mu = 2$ and $\\sigma = 0.125$.*"
   ]
  },
  {
   "cell_type": "markdown",
   "metadata": {
    "id": "z-rY2Q9ljPxe"
   },
   "source": [
    "**Answer:** The histrogram for the Gaussian distribution figure illustrates that the Gaussian distribution is made with a mean equal to 2 and a standard deviation equal 0.125, and 10 bins. "
   ]
  },
  {
   "cell_type": "markdown",
   "metadata": {
    "id": "h4YMfRscXUjP"
   },
   "source": [
    "## Binning Integers\n",
    "\n",
    "#### 1.4) Now we'll generate a bunch of integers and set the bin boundaries manually. This time, let's grab data from a Poisson distribution. As it turns out numpy also has some convenient random number generators. Use `numpy.random.poisson` to generate 5000 numbers drawn from a Poisson distribution characterized by $\\lambda = 10$. Find the maximum and minimum value of your 5000 random numbers."
   ]
  },
  {
   "cell_type": "markdown",
   "metadata": {
    "id": "HozO5P7-Xo2Z"
   },
   "source": [
    "**Answer:** Generating the integers, finding min and max: "
   ]
  },
  {
   "cell_type": "code",
   "execution_count": 6,
   "metadata": {
    "colab": {
     "base_uri": "https://localhost:8080/",
     "height": 34
    },
    "id": "4rNHzfJMXxkL",
    "outputId": "998730c3-5963-4c53-967e-758cc07ef06f"
   },
   "outputs": [
    {
     "name": "stdout",
     "output_type": "stream",
     "text": [
      "min value: 1 and max value: 24\n"
     ]
    }
   ],
   "source": [
    "np.random.seed(42)\n",
    "lam = 10\n",
    "n = 5000\n",
    "rand_pois = np.random.poisson(lam, n) # Generating numbers\n",
    "\n",
    "max_pois, min_pois = np.max(rand_pois), np.min(rand_pois)\n",
    "print(f\"min value: {min_pois} and max value: {max_pois}\")"
   ]
  },
  {
   "cell_type": "markdown",
   "metadata": {
    "id": "x8WSGOAIYYe4"
   },
   "source": [
    "#### 1.5) Instead of simplify specifying the number of bins for `numpy.histogram`, let's specify the bins we want using a vector. Create a vector $v$ that results in a binning that puts each integer value in its own bin and where the first bin contains the minimum number you found above, and the last bin contains the maximum number (you may want to think about how `numpy.histogram` deals with the smallest an largest value in particular; is it correct to set the first entry of $v$ to be equal to the smallest value you observe and the last entry of $v$ to be the highest value observed?). Use the vector by setting `numpy.histogram`'s bin parameter as bin = $v$. What is the sum over bin counts? Explain how the binning-vectors first and last element relates to the min and max from the Poisson distribution."
   ]
  },
  {
   "cell_type": "code",
   "execution_count": 7,
   "metadata": {
    "colab": {
     "base_uri": "https://localhost:8080/",
     "height": 51
    },
    "id": "9z1xTE7IylMK",
    "outputId": "da9f0963-2261-4ce4-e151-e00324f66181"
   },
   "outputs": [
    {
     "data": {
      "text/plain": [
       "array([ 1,  2,  3,  4,  5,  6,  7,  8,  9, 10, 11, 12, 13, 14, 15, 16, 17,\n",
       "       18, 19, 20, 21, 22, 23, 24])"
      ]
     },
     "execution_count": 7,
     "metadata": {},
     "output_type": "execute_result"
    }
   ],
   "source": [
    "v = np.unique(rand_pois)\n",
    "v"
   ]
  },
  {
   "cell_type": "markdown",
   "metadata": {
    "id": "THxwrQZ23yHe"
   },
   "source": [
    "Since the np.histogram bins parameter considers the values in *v* as bin edges, the first bin will only contain 1, second will only contain 2, etc. but the last bin will contain both of the two largest values (24 and 27 in this case). Thus, we should add an extra value to make sure the largest value is a separate bin.\n"
   ]
  },
  {
   "cell_type": "code",
   "execution_count": 8,
   "metadata": {
    "colab": {
     "base_uri": "https://localhost:8080/",
     "height": 51
    },
    "id": "hxdTIpFb40zy",
    "outputId": "860614b2-da51-4527-b956-2ad060c29da1"
   },
   "outputs": [
    {
     "data": {
      "text/plain": [
       "array([ 1,  2,  3,  4,  5,  6,  7,  8,  9, 10, 11, 12, 13, 14, 15, 16, 17,\n",
       "       18, 19, 20, 21, 22, 23, 24, 24])"
      ]
     },
     "execution_count": 8,
     "metadata": {},
     "output_type": "execute_result"
    }
   ],
   "source": [
    "v = np.append(v, np.max(v))\n",
    "v"
   ]
  },
  {
   "cell_type": "markdown",
   "metadata": {
    "id": "1Rz6QTq76ZCy"
   },
   "source": [
    "We can now create the histogram using np.histogram()"
   ]
  },
  {
   "cell_type": "code",
   "execution_count": 9,
   "metadata": {
    "colab": {
     "base_uri": "https://localhost:8080/",
     "height": 85
    },
    "id": "-orEbHBP4u-9",
    "outputId": "241f8aa8-782e-44d1-cab3-5aaa777ff05e"
   },
   "outputs": [
    {
     "data": {
      "text/plain": [
       "(array([  1,  15,  39,  85, 179, 320, 468, 574, 619, 609, 560, 466, 399,\n",
       "        238, 154, 121,  76,  41,  20,   9,   4,   1,   1,   1]),\n",
       " array([ 1,  2,  3,  4,  5,  6,  7,  8,  9, 10, 11, 12, 13, 14, 15, 16, 17,\n",
       "        18, 19, 20, 21, 22, 23, 24, 24]))"
      ]
     },
     "execution_count": 9,
     "metadata": {},
     "output_type": "execute_result"
    }
   ],
   "source": [
    "rand_hist2 = np.histogram(rand_pois, bins=v)\n",
    "rand_hist2"
   ]
  },
  {
   "cell_type": "markdown",
   "metadata": {
    "id": "AC2e_7P66eEf"
   },
   "source": [
    "To verify the bins are correct, we can use np.bincount(), which counts the occurances of each value, and we see that the bins counts match."
   ]
  },
  {
   "cell_type": "code",
   "execution_count": 10,
   "metadata": {
    "colab": {
     "base_uri": "https://localhost:8080/",
     "height": 51
    },
    "id": "Xo2auJw25YWx",
    "outputId": "4b11420c-6aaa-4b3d-c191-11fec855d8b2"
   },
   "outputs": [
    {
     "data": {
      "text/plain": [
       "array([  0,   1,  15,  39,  85, 179, 320, 468, 574, 619, 609, 560, 466,\n",
       "       399, 238, 154, 121,  76,  41,  20,   9,   4,   1,   1,   1])"
      ]
     },
     "execution_count": 10,
     "metadata": {},
     "output_type": "execute_result"
    }
   ],
   "source": [
    "np.bincount(rand_pois)"
   ]
  },
  {
   "cell_type": "markdown",
   "metadata": {
    "id": "t4-Lsx9n6xx3"
   },
   "source": [
    "The sum over the bins is:"
   ]
  },
  {
   "cell_type": "code",
   "execution_count": 11,
   "metadata": {
    "colab": {
     "base_uri": "https://localhost:8080/",
     "height": 34
    },
    "id": "4sEM7KCy6wrp",
    "outputId": "1a89dd55-8c2f-46f5-b0ec-0036d32a7e46"
   },
   "outputs": [
    {
     "name": "stdout",
     "output_type": "stream",
     "text": [
      "Sum over bins: 5000\n"
     ]
    }
   ],
   "source": [
    "print('Sum over bins:', rand_hist2[0].sum())"
   ]
  },
  {
   "cell_type": "markdown",
   "metadata": {
    "id": "7gzHD5s066HV"
   },
   "source": [
    "As explained above, the first element of the binning vector is equal to the minimum element of poisson distribution. The last element can be handled in several ways, in this case we chose to dublicate it, but it might as well have been any larger number than the max value in order to create the last bin."
   ]
  },
  {
   "cell_type": "markdown",
   "metadata": {
    "id": "sUDMRBbl7LWO"
   },
   "source": [
    "#### 1.6) Use a bar chart (`matplotlib.pyplot.bar`) to plot the distribution"
   ]
  },
  {
   "cell_type": "code",
   "execution_count": 12,
   "metadata": {
    "colab": {
     "base_uri": "https://localhost:8080/",
     "height": 295
    },
    "id": "qHD5ExIZ7R2j",
    "outputId": "a7e3db71-5088-461e-e894-97927cb5fdf8"
   },
   "outputs": [
    {
     "data": {
      "image/png": "[encoded data removed]",
      "text/plain": [
       "<Figure size 432x288 with 1 Axes>"
      ]
     },
     "metadata": {
      "needs_background": "light"
     },
     "output_type": "display_data"
    }
   ],
   "source": [
    "plt.bar(rand_hist2[1][:-1], rand_hist2[0])\n",
    "plt.title(\"Poisson Distribution\")\n",
    "plt.xlabel(\"Bins\")\n",
    "plt.ylabel(\"Frequency\")\n",
    "plt.show()"
   ]
  },
  {
   "cell_type": "markdown",
   "metadata": {
    "id": "qzOBvXSXaEsu"
   },
   "source": [
    "*Figure 2: A bar chart illustrating n=5000 random datapoints using Poisson Distribution, with $\\lambda = 10$.*"
   ]
  },
  {
   "cell_type": "markdown",
   "metadata": {
    "id": "rChN5zrukTKt"
   },
   "source": [
    "**Answer:** The above figure visualize the Poisson distribution with 5000 numbers and a 𝜆 equal to 10. "
   ]
  },
  {
   "cell_type": "markdown",
   "metadata": {
    "id": "h9wv6FCnaMy7"
   },
   "source": [
    "## Binning and plotting degree distributions."
   ]
  },
  {
   "cell_type": "markdown",
   "metadata": {
    "id": "0ACFkueUaPoQ"
   },
   "source": [
    "#### 1.7) Let's generate the Erdös-Renyi (ER) network which has a degree distribution that matches the Poisson distribution above. First we have to figure out which values the ER parameters (N and p) should assume. It's easy to see that $N = 5000$, but how do you find $p$? "
   ]
  },
  {
   "cell_type": "markdown",
   "metadata": {
    "id": "fFA_1Db_aXiI"
   },
   "source": [
    "**Answer**: \n",
    "First, we have to figure out what value p should take in the ER parameters (we already know that N=5000). We use equation from box 3.11 in *Network Science*[1]:\n",
    "$$ <k> = p(N-1) <=> p = \\frac{<k>}{N-1} = \\frac{10}{4999}$$ \n",
    "\n",
    "which gets us a value of p at:"
   ]
  },
  {
   "cell_type": "code",
   "execution_count": 13,
   "metadata": {
    "colab": {
     "base_uri": "https://localhost:8080/",
     "height": 34
    },
    "id": "O7Ia3c90ajYF",
    "outputId": "cccf02c6-a23b-4190-d6d4-09c172a20f38"
   },
   "outputs": [
    {
     "name": "stdout",
     "output_type": "stream",
     "text": [
      "p = 0.002000400080016003\n"
     ]
    }
   ],
   "source": [
    "N = 5000\n",
    "p = 10/(N-1)\n",
    "print(f\"p = {p}\")"
   ]
  },
  {
   "cell_type": "markdown",
   "metadata": {
    "id": "EQuSOpoLa8XW"
   },
   "source": [
    "#### 1.8) Now, use networkx to create the graph and extract the degree distribution."
   ]
  },
  {
   "cell_type": "markdown",
   "metadata": {
    "id": "pqX7h5SUbaRd"
   },
   "source": [
    "**Answer:** Using NetworkX we generate the ER graph with the parameters above and extract degrees from all nodes in order to get the degree distribution of the entire graph. "
   ]
  },
  {
   "cell_type": "code",
   "execution_count": 14,
   "metadata": {
    "id": "x9i0byYZbG8J"
   },
   "outputs": [],
   "source": [
    "er = nx.erdos_renyi_graph(N, p, seed=42)      # Creating graph\n",
    "degrees = [er.degree(c) for c in er.nodes()]  # Degree distribution"
   ]
  },
  {
   "cell_type": "markdown",
   "metadata": {
    "id": "zV4_W65jbdMS"
   },
   "source": [
    "#### 1.9) Create a nice bar plot of the degree distribution, including axes labels and a plot title. Make sure that it looks like the Poisson distribution you plotted above."
   ]
  },
  {
   "cell_type": "code",
   "execution_count": 15,
   "metadata": {
    "colab": {
     "base_uri": "https://localhost:8080/",
     "height": 295
    },
    "id": "HOyMW5Hebji3",
    "outputId": "b92b15b2-4f06-4b88-8129-506da2be0b45"
   },
   "outputs": [
    {
     "data": {
      "image/png": "[encoded data removed]",
      "text/plain": [
       "<Figure size 432x288 with 1 Axes>"
      ]
     },
     "metadata": {
      "needs_background": "light"
     },
     "output_type": "display_data"
    }
   ],
   "source": [
    "plt.hist(degrees, bins=23, rwidth=0.8)\n",
    "plt.title(\"Degree Distribution of Erdös-Renyi network\")\n",
    "plt.xlabel(\"bins\")\n",
    "plt.ylabel(\"Frequency\")\n",
    "plt.show()"
   ]
  },
  {
   "cell_type": "markdown",
   "metadata": {
    "id": "N1E5rxxNai_y"
   },
   "source": [
    "*Figure 3: A bar chart illustrating the degree distribution of an Erdös-Renyi network of 5000 nodes with $p = 0.002$.*"
   ]
  },
  {
   "cell_type": "markdown",
   "metadata": {
    "id": "xOajjtsX8VlT"
   },
   "source": [
    "**Answer:** We see that the plot below is similar to the Poisson Distribution above, which is as desired. \n",
    "This is expected, as the linking probability of the Erdős-Rényi network is derived from avg. degree = 10, corresponding to a poisson distribution with $\\lambda = 10$"
   ]
  },
  {
   "cell_type": "markdown",
   "metadata": {
    "id": "xRBPdQLERE-i"
   },
   "source": [
    "# Part 2: Random networks and plotting in `networkx`"
   ]
  },
  {
   "cell_type": "markdown",
   "metadata": {
    "id": "9pKOzdUvcMn2"
   },
   "source": [
    "### Assignments 3.11 in Book\n",
    "#### 2.1)(book) What is the expected number of links, 〈L〉?\n",
    "\n",
    "**Answer:**\n",
    "The average number of links can be found using the fomula from box 3.11 in *Network Science*[1]: \n",
    "$$ <L> = \\frac{pN(N-1)}{2} $$. \n",
    "We calculate the expected number:"
   ]
  },
  {
   "cell_type": "code",
   "execution_count": 16,
   "metadata": {
    "colab": {
     "base_uri": "https://localhost:8080/",
     "height": 51
    },
    "id": "BMcgsfMVcsNd",
    "outputId": "5eb1a6ff-9a32-4355-900b-0fb8779fdd7d"
   },
   "outputs": [
    {
     "name": "stdout",
     "output_type": "stream",
     "text": [
      "L = 4498.5\n",
      "Since we cant have half a link: 4498.0\n"
     ]
    }
   ],
   "source": [
    "#Defining given network parameters\n",
    "N = 3000\n",
    "p = 10**(-3)\n",
    "\n",
    "L_avg = (p*N*(N-1))/2\n",
    "print('L =',L_avg)\n",
    "print('Since we cant have half a link:',np.floor(L_avg))"
   ]
  },
  {
   "cell_type": "markdown",
   "metadata": {
    "id": "EGJx0_esc1R4"
   },
   "source": [
    "#### 2.2)(book) In which regime is the network?\n",
    "\n",
    "According to Albert-László, et al, chapter 3.6 [1], we have:\n",
    "* Supcritical (p < 1/N) \n",
    "* Critical point (p = 1/N)\n",
    "* Supercritical (p > 1/N)"
   ]
  },
  {
   "cell_type": "code",
   "execution_count": 17,
   "metadata": {
    "colab": {
     "base_uri": "https://localhost:8080/",
     "height": 34
    },
    "id": "LPHFXqA3dCoL",
    "outputId": "79890d4f-46dc-44a3-cf81-a8161dd9588a"
   },
   "outputs": [
    {
     "name": "stdout",
     "output_type": "stream",
     "text": [
      "Is p > 1/N? True\n"
     ]
    }
   ],
   "source": [
    "print(f\"Is p > 1/N? {p > 1/N}\")"
   ]
  },
  {
   "cell_type": "markdown",
   "metadata": {
    "id": "3h5uqwfxdMzs"
   },
   "source": [
    "**Answer:** Since p > 1/N, the network is in the **supercritical regime**, meaning it is expected to have a giant component. Most real networks are supercritical [1]."
   ]
  },
  {
   "cell_type": "markdown",
   "metadata": {
    "id": "7-V5ZnGTdXVv"
   },
   "source": [
    "#### 2.3)(book) Calculate the probability $p_c$ so that the network is at the critical point\n",
    "\n",
    "According to Albert-László, et al, chapter 3.6 [1], we can calculate the probability using: $p_c = \\frac{1}{N}$:  "
   ]
  },
  {
   "cell_type": "code",
   "execution_count": 18,
   "metadata": {
    "colab": {
     "base_uri": "https://localhost:8080/",
     "height": 34
    },
    "id": "IfBzLTakdnGW",
    "outputId": "e6259820-4fa2-4790-c3b1-8b9c7e2fe9c8"
   },
   "outputs": [
    {
     "name": "stdout",
     "output_type": "stream",
     "text": [
      "p_c must be: 0.0003333333333333333\n"
     ]
    }
   ],
   "source": [
    "print('p_c must be:', 1/N)"
   ]
  },
  {
   "cell_type": "markdown",
   "metadata": {
    "id": "zcWSYSIQQV4n"
   },
   "source": [
    "**Answer:** $p_c$ must be 0.000333"
   ]
  },
  {
   "cell_type": "markdown",
   "metadata": {
    "id": "2iH5N3KGdxdy"
   },
   "source": [
    "#### 2.4)(book) Given the linking probability $p = 10^{-3}$, calculate the number of nodes $N^{cr}$ so that the network has only one component."
   ]
  },
  {
   "cell_type": "markdown",
   "metadata": {
    "id": "Bhq9BrnBd08R"
   },
   "source": [
    "According to Albert-László, et al, chapter 3 [1], a connected regime is when $$k > ln(N)$$. So we wish to find an N that satisfies this. We know that k is calculated as $$ k = p \\cdot (N-1)$$ So we substitute k for $p \\cdot (N-1)$: $$ ln(N) = p \\cdot (N-1) $$ with p inserted: $$ ln(N) = 10^{-3} \\cdot (N-1) $$ which works for N =~ 9119. We double-check:"
   ]
  },
  {
   "cell_type": "code",
   "execution_count": 19,
   "metadata": {
    "colab": {
     "base_uri": "https://localhost:8080/",
     "height": 34
    },
    "id": "3zGKYm_seIV0",
    "outputId": "71b38746-243a-4b6e-8af2-4fcd2562ffba"
   },
   "outputs": [
    {
     "data": {
      "text/plain": [
       "True"
      ]
     },
     "execution_count": 19,
     "metadata": {},
     "output_type": "execute_result"
    }
   ],
   "source": [
    "(np.log(9119) > 10**(-3)*(9119-1))"
   ]
  },
  {
   "cell_type": "markdown",
   "metadata": {
    "id": "XwRXtLHQQ_1c"
   },
   "source": [
    "and double-check visually as well:"
   ]
  },
  {
   "cell_type": "code",
   "execution_count": 20,
   "metadata": {
    "colab": {
     "base_uri": "https://localhost:8080/",
     "height": 313
    },
    "id": "_3uS3KEgGR4r",
    "outputId": "4b0bd69a-e703-42c0-c8e4-74a8a6c0ce1b"
   },
   "outputs": [
    {
     "name": "stdout",
     "output_type": "stream",
     "text": [
      "For the network to have only one component the number of nodes 𝑁𝑐𝑟 needs to be higher than:\n",
      "N_cr = [9119.]\n"
     ]
    },
    {
     "data": {
      "image/png": "[encoded data removed]",
      "text/plain": [
       "<Figure size 432x288 with 1 Axes>"
      ]
     },
     "metadata": {
      "needs_background": "light"
     },
     "output_type": "display_data"
    }
   ],
   "source": [
    "fig = plt.figure()\n",
    "ax = fig.add_subplot(111)\n",
    "N_plot = np.arange(8000,10000, 2)\n",
    "\n",
    "y1 = np.linspace(0.001,0.001, 1000)\n",
    "x1 = np.linspace(8000,10000, 1000)\n",
    "y2 = np.log(N_plot)/N_plot\n",
    "x2 = np.linspace(8000,10000, 1000)\n",
    "\n",
    "ax.plot(x1, y1, color='blue',linewidth=10)\n",
    "ax.plot(x2, y2, color='darkgreen', marker='^')\n",
    "\n",
    "\n",
    "# Plot the cross point\n",
    "idx = np.argwhere(np.diff(np.sign(y1 - y2))).flatten()\n",
    "plt.plot(x1[idx], y1[idx], 'ro')\n",
    "plt.xlabel('Values of N')\n",
    "plt.ylabel('p')\n",
    "plt.grid()\n",
    "plt.plot()\n",
    "\n",
    "print('For the network to have only one component the number of nodes 𝑁𝑐𝑟 needs to be higher than:')\n",
    "print(f\"N_cr = {np.round(x1[idx])}\")\n",
    "plt.show()"
   ]
  },
  {
   "cell_type": "markdown",
   "metadata": {
    "id": "Ydues60ia0-A"
   },
   "source": [
    "*Figure 4: A graph used to determine the desired value of N, visually. The blue line represents $p=10^{-1}$, and the green line represents different values of N. The red dot indicates the value of N that satifies the network only having one component.*"
   ]
  },
  {
   "cell_type": "markdown",
   "metadata": {
    "id": "zfCbjli0WsoW"
   },
   "source": [
    "The above plot confirms the value of N to be 9119 for which we only have one component - namely the value in the red dot."
   ]
  },
  {
   "cell_type": "markdown",
   "metadata": {
    "id": "WlNCwXP5LKmP"
   },
   "source": [
    "#### 2.5)(book) For the network in (d), calculate the average degree〈kcr〉and the average distance between two randomly chosen nodes〈d〉.\n"
   ]
  },
  {
   "cell_type": "markdown",
   "metadata": {
    "id": "h4Rbn2W_Ud8Y"
   },
   "source": [
    "**Answer:**\n",
    "We use the value for $N^{cr}$ found in exercise 2.4 above and then use equations (3.14) and (3.19) in *Network Science* [1] to calculate $k_{cr}$ and $<d>$, respectively"
   ]
  },
  {
   "cell_type": "code",
   "execution_count": 21,
   "metadata": {
    "colab": {
     "base_uri": "https://localhost:8080/",
     "height": 51
    },
    "id": "pIX-kFPVLVbv",
    "outputId": "d4318f45-e8e3-4b58-9ff7-b283cdaee47e"
   },
   "outputs": [
    {
     "name": "stdout",
     "output_type": "stream",
     "text": [
      "k_cr = 9.12\n",
      "d = 4.13\n"
     ]
    }
   ],
   "source": [
    "N_cr = 9119 # \n",
    "k_cr = np.log(N_cr) # using equation (3.14) in the book \n",
    "print(\"k_cr =\",np.round(k_cr,2))\n",
    "\n",
    "d = np.log(N_cr)/ np.log(k_cr) #using equation (3.19) in the book\n",
    "print(\"d =\",np.round(d,2))"
   ]
  },
  {
   "cell_type": "markdown",
   "metadata": {
    "id": "7-SeWXn-LnHk"
   },
   "source": [
    "#### 2.6)(book) Calculate the degree distribution $p_k$ of this network (approximate with a Poisson degree distribution)."
   ]
  },
  {
   "cell_type": "markdown",
   "metadata": {
    "id": "xF8YRsOaV1Vh"
   },
   "source": [
    "In order to calculate this, we use the $k_{cr}$ found in exercise 2.5 in equation (3.8) from *Network Science* [1]. "
   ]
  },
  {
   "cell_type": "code",
   "execution_count": 22,
   "metadata": {
    "colab": {
     "base_uri": "https://localhost:8080/",
     "height": 34
    },
    "id": "47qGsN10L1Rm",
    "outputId": "e527ec09-1cce-4ccc-e7dc-486fcc3a4cc6"
   },
   "outputs": [
    {
     "name": "stdout",
     "output_type": "stream",
     "text": [
      "p_k = 0.13\n"
     ]
    }
   ],
   "source": [
    "p_k = np.exp(-k_cr)*((k_cr**k_cr)/gamma(k_cr + 1))    # Equation 3.8\n",
    "print(\"p_k =\", np.round(p_k,2))"
   ]
  },
  {
   "cell_type": "markdown",
   "metadata": {
    "id": "HfLMokYSm5bm"
   },
   "source": [
    "**Answer:**\n",
    "The degree distribution is found to be $p_k = 0.13$"
   ]
  },
  {
   "cell_type": "markdown",
   "metadata": {
    "id": "qzyFi5fDnHD6"
   },
   "source": [
    "### (End of exercises from book) "
   ]
  },
  {
   "cell_type": "markdown",
   "metadata": {
    "id": "QcxoA03rf1X-"
   },
   "source": [
    "### Paths \n",
    "\n",
    "#### 2.7) Plot a random network with 200 nodes and an average degree of 1.5. (I suggest using networkx.draw and reading the documentation carefully to get an overview of all the options and what they look like. For example, you may want to shrink the node size)."
   ]
  },
  {
   "cell_type": "code",
   "execution_count": 23,
   "metadata": {
    "colab": {
     "base_uri": "https://localhost:8080/",
     "height": 319
    },
    "id": "REJimY4Vf5PW",
    "outputId": "bb9a5bd1-5430-4799-976e-40f508817013"
   },
   "outputs": [
    {
     "name": "stderr",
     "output_type": "stream",
     "text": [
      "/Users/benedictehejgaard/opt/anaconda3/lib/python3.7/site-packages/networkx/drawing/nx_pylab.py:579: MatplotlibDeprecationWarning: \n",
      "The iterable function was deprecated in Matplotlib 3.1 and will be removed in 3.3. Use np.iterable instead.\n",
      "  if not cb.iterable(width):\n"
     ]
    },
    {
     "data": {
      "image/png": "[encoded data removed]",
      "text/plain": [
       "<Figure size 432x288 with 1 Axes>"
      ]
     },
     "metadata": {},
     "output_type": "display_data"
    }
   ],
   "source": [
    "N = 200       # Nodes\n",
    "k = 1.5       # Avg. Degree\n",
    "p = k/(N-1)   # Calculating p\n",
    "\n",
    "ER_4 = nx.erdos_renyi_graph(N,p, seed=42)\n",
    "nx.draw(ER_4, pos=nx.spring_layout(ER_4), node_size=70, width =2)"
   ]
  },
  {
   "cell_type": "markdown",
   "metadata": {
    "id": "DTAXKmbCbU7M"
   },
   "source": [
    "*Figure 5: A random network with 200 nodes and average degree of 1.5.*"
   ]
  },
  {
   "cell_type": "code",
   "execution_count": 24,
   "metadata": {
    "colab": {
     "base_uri": "https://localhost:8080/",
     "height": 34
    },
    "id": "hPB6M_6CRnw0",
    "outputId": "a8ca9879-de6e-460e-e516-0de5adb67436"
   },
   "outputs": [
    {
     "name": "stdout",
     "output_type": "stream",
     "text": [
      "Is p > 1/N? True\n"
     ]
    }
   ],
   "source": [
    "print(f\"Is p > 1/N? {p > 1/N}\")"
   ]
  },
  {
   "cell_type": "markdown",
   "metadata": {
    "id": "j3Yw0yTy10uR"
   },
   "source": [
    "**Answer**: In the above plot we see the random network. Since $p > \\frac{1}{N}$, the network is in the supercritical regime. We notice the one giant component, which is as expected, given we are in this regime. "
   ]
  },
  {
   "cell_type": "markdown",
   "metadata": {
    "id": "NzPcLeR7gBoy"
   },
   "source": [
    "#### 2.8) Extract the Giant Connected Component, GCC. (Hint. You can use `nx.connected_component_subgraphs`)"
   ]
  },
  {
   "cell_type": "code",
   "execution_count": 25,
   "metadata": {
    "colab": {
     "base_uri": "https://localhost:8080/",
     "height": 319
    },
    "id": "DfHEqd3wgFEZ",
    "outputId": "5bf73802-941a-4564-f9c8-a7ef507ea832"
   },
   "outputs": [
    {
     "data": {
      "image/png": "[encoded data removed]",
      "text/plain": [
       "<Figure size 432x288 with 1 Axes>"
      ]
     },
     "metadata": {},
     "output_type": "display_data"
    }
   ],
   "source": [
    "GCC = [ER_4.subgraph(c).copy() for c in sorted(nx.connected_components(ER_4), key=len, reverse=True)][0]\n",
    "nx.draw(GCC, node_size=70, width =2)"
   ]
  },
  {
   "cell_type": "markdown",
   "metadata": {
    "id": "Gtwfy1eMbcwk"
   },
   "source": [
    "*Figure 6: An extracted Giant Gonnected Component extracted from the random network in figure 5.*"
   ]
  },
  {
   "cell_type": "markdown",
   "metadata": {
    "id": "qLOd8bQ62I8A"
   },
   "source": [
    "**Answer**: Above, we see the extracted giant connected component. We see that all nodes are connected in this cluster as expected."
   ]
  },
  {
   "cell_type": "markdown",
   "metadata": {
    "id": "lIxZd53VgG9Q"
   },
   "source": [
    "#### 2.9) Choose a node at random from the GCC. (Hint: You may want to try random.choice.)"
   ]
  },
  {
   "cell_type": "code",
   "execution_count": 26,
   "metadata": {
    "colab": {
     "base_uri": "https://localhost:8080/",
     "height": 34
    },
    "id": "Ya78XFU0gJZT",
    "outputId": "bd439d0e-740b-4b82-d68f-e3ec743b0dcb"
   },
   "outputs": [
    {
     "name": "stdout",
     "output_type": "stream",
     "text": [
      "Randomly chosen node: 193\n"
     ]
    }
   ],
   "source": [
    "random.seed(42)\n",
    "Node = random.choice(list(GCC.nodes))\n",
    "print(f\"Randomly chosen node: {Node}\")"
   ]
  },
  {
   "cell_type": "markdown",
   "metadata": {
    "id": "7LhwySNHgLvn"
   },
   "source": [
    "#### 2.10) Find all nodes that are precisely 2 steps away from that node. \n",
    "(Hint. I suggest networkx.single_source_shortest_path_length)\n"
   ]
  },
  {
   "cell_type": "code",
   "execution_count": 27,
   "metadata": {
    "colab": {
     "base_uri": "https://localhost:8080/",
     "height": 51
    },
    "id": "G1VP-eyrgVi2",
    "outputId": "e8e9c0e7-e1e9-4b6b-df90-11b5f4d7d9f3"
   },
   "outputs": [
    {
     "name": "stdout",
     "output_type": "stream",
     "text": [
      "Results list: {10: 2, 120: 2, 178: 2}\n",
      "Nodes that are 2 steps away from found node: dict_keys([10, 120, 178])\n"
     ]
    }
   ],
   "source": [
    "length = nx.single_source_shortest_path_length(GCC,source = Node, cutoff = 2)\n",
    "\n",
    "length_2 = dict((k, v) for k, v in length.items() if v == 2)\n",
    "\n",
    "print(f\"Results list: {length_2}\")\n",
    "print(f\"Nodes that are 2 steps away from found node: {length_2.keys()}\")"
   ]
  },
  {
   "cell_type": "markdown",
   "metadata": {
    "id": "OXp-p2Gc2s5g"
   },
   "source": [
    "**Answer**: We see that the nodes listed above are precisely 2 steps away from that node. "
   ]
  },
  {
   "cell_type": "markdown",
   "metadata": {
    "id": "0PWXUozOgRTp"
   },
   "source": [
    "#### 2.11) Plot the GCC with the following choice of colors. Starting node black (\"#000000\"). The nodes 2 steps away red (\"#ff0000\"). All other nodes blue (\"#A0CBE2\"). \n"
   ]
  },
  {
   "cell_type": "code",
   "execution_count": 28,
   "metadata": {
    "colab": {
     "base_uri": "https://localhost:8080/",
     "height": 319
    },
    "id": "8qJXqIHfgXXC",
    "outputId": "c8c26146-35fd-4929-b0a6-43c4761e281d"
   },
   "outputs": [
    {
     "data": {
      "image/png": "[encoded data removed]",
      "text/plain": [
       "<Figure size 432x288 with 1 Axes>"
      ]
     },
     "metadata": {},
     "output_type": "display_data"
    }
   ],
   "source": [
    "color_map = []\n",
    "for node in list(GCC.nodes):\n",
    "    if node in length_2.keys():\n",
    "        color_map.append('#ff0000')\n",
    "    elif node == Node:\n",
    "        color_map.append('#000000')  \n",
    "    else:\n",
    "        color_map.append('#A0CBE2') \n",
    "nx.draw(GCC, node_color=color_map, with_labels=True,  node_size=300, width =2)"
   ]
  },
  {
   "cell_type": "markdown",
   "metadata": {
    "id": "gA_IHqXgb1nF"
   },
   "source": [
    "*Figure 7: The Giant Connected Component from figure 6. The starting node had been colored black, its neighboring nodes red, and the remaining nodes blue.*"
   ]
  },
  {
   "cell_type": "markdown",
   "metadata": {
    "id": "LUbwLa1LS22D"
   },
   "source": [
    "**Answer**: In the above network, we hace colored the starting node black, the nodes two steps away red, and the rest blue. We see that the red nodes indeed are two steps away from the black. "
   ]
  },
  {
   "cell_type": "markdown",
   "metadata": {
    "id": "H2s4F7UORFJz"
   },
   "source": [
    "# Part 3: Watts-Strogatz Networks"
   ]
  },
  {
   "cell_type": "markdown",
   "metadata": {
    "id": "dUP0PDc3XBcU"
   },
   "source": [
    "#### 3.1.a) Use `nx.watts_strogatz_graph` to generate 3 graphs with 500 nodes each, average degree = 4, and rewiring probablity $p = 0, 0.1, \\textrm{and} 1$."
   ]
  },
  {
   "cell_type": "code",
   "execution_count": 29,
   "metadata": {
    "id": "4Wta6rDyJieN"
   },
   "outputs": [],
   "source": [
    "G_0 = nx.watts_strogatz_graph(n = 500, k = 4, p = 0, seed = 42 )\n",
    "G_01 = nx.watts_strogatz_graph(n = 500, k = 4,  p = 0.1, seed = 42 )\n",
    "G_1 = nx.watts_strogatz_graph(n = 500, k = 4, p = 1, seed = 42 )"
   ]
  },
  {
   "cell_type": "markdown",
   "metadata": {
    "id": "7kCguSu6XMaa"
   },
   "source": [
    "#### 3.1.b) Calculate the average shortest path length $\\langle d \\rangle$ for each one. Describe what happens to the network when $p = 1$."
   ]
  },
  {
   "cell_type": "code",
   "execution_count": 30,
   "metadata": {
    "colab": {
     "base_uri": "https://localhost:8080/",
     "height": 85
    },
    "id": "YTTTjfLCJmn6",
    "outputId": "91d670dd-7d78-4ffe-c549-7cafa22fd5b0"
   },
   "outputs": [
    {
     "name": "stdout",
     "output_type": "stream",
     "text": [
      "The average shortest path length for the three graphs are:\n",
      "With probability p = 0: 62.88\n",
      "With probability p = 0.1: 8.34\n",
      "With probability p = 1: 4.73\n"
     ]
    }
   ],
   "source": [
    "G_0_d = nx.average_shortest_path_length(G_0)\n",
    "G_01_d = nx.average_shortest_path_length(G_01)\n",
    "G_1_d = nx.average_shortest_path_length(G_1)\n",
    "print('The average shortest path length for the three graphs are:')\n",
    "print(f'With probability p = 0: {np.round(G_0_d, 2)}')\n",
    "print(f'With probability p = 0.1: {np.round(G_01_d, 2)}')\n",
    "print(f'With probability p = 1: {np.round(G_1_d, 2)}')"
   ]
  },
  {
   "cell_type": "markdown",
   "metadata": {
    "id": "M2fFzyYBJ1-V"
   },
   "source": [
    "**Answer**: The average shortest path length decreases when the probability increases. Meaning that the more random the network becomes, the more connected the network becomes. At p=1, our network is fully random, meaning it will have the shortest average path lengths [1]. "
   ]
  },
  {
   "cell_type": "markdown",
   "metadata": {
    "id": "wE1GOiB93kv8"
   },
   "source": [
    "#### 3.2) Let's understand the behavior of the WS model as we increase p in more detail.. Generate 50 networks with $N = 500$, $\\langle k \\rangle = 4$, for each of $p = \\{0, 0.01, 0.03, 0.05, 0.1, 0.2\\}$. Calculate the average of $\\langle d \\rangle$ as well as the standard deviation over the 50 networks, to create a plot that shows how the path length decreases very quickly with only a little fraction of re-wiring. Use the standard deviation to add errorbars to the plot. "
   ]
  },
  {
   "cell_type": "code",
   "execution_count": 31,
   "metadata": {
    "id": "IatCV1np3ovN"
   },
   "outputs": [],
   "source": [
    "#A matrix of the networks is created in order to iteratively generate them and make calculations\n",
    "n = 50\n",
    "p_list_1 = np.array([0,0.01,0.03,0.05,0.1,0.2])\n",
    "network_matrix = np.zeros([n, len(p_list_1)])\n",
    "\n",
    "for k in range(n):\n",
    "    for i in range(len(p_list_1)):\n",
    "        G_3 = nx.watts_strogatz_graph(n = 500, k = 4, p=p_list_1[i])\n",
    "        network_matrix[k, i] = nx.average_shortest_path_length(G_3)"
   ]
  },
  {
   "cell_type": "code",
   "execution_count": 32,
   "metadata": {
    "colab": {
     "base_uri": "https://localhost:8080/",
     "height": 102
    },
    "id": "86bq9OtA3uLT",
    "outputId": "b75946e7-c74f-4fee-ff3e-42607107573e"
   },
   "outputs": [
    {
     "name": "stdout",
     "output_type": "stream",
     "text": [
      "Network std:\n",
      "[7.105427357601002e-15, 5.795500713338424, 1.1930760800515252, 0.7118146698223176, 0.2767635716599262, 0.1178153981474101] \n",
      "\n",
      "Network mean:\n",
      "[62.87575150300602, 24.32263118236473, 12.975901402805613, 10.21652488977956, 7.701977074148297, 6.101745731462927]\n"
     ]
    }
   ],
   "source": [
    "network_std = [np.std(network_matrix[:,i]) for i in range(len(p_list_1))]\n",
    "print(\"Network std:\")\n",
    "print(network_std,'\\n')\n",
    "network_mean = [np.mean(network_matrix[:,l]) for l in range(len(p_list_1))]\n",
    "print(\"Network mean:\")\n",
    "print(network_mean)"
   ]
  },
  {
   "cell_type": "code",
   "execution_count": 33,
   "metadata": {
    "colab": {
     "base_uri": "https://localhost:8080/",
     "height": 295
    },
    "id": "t_g6FdK13udl",
    "outputId": "b650d3b6-e232-482e-98c9-e7da66ec9a86"
   },
   "outputs": [
    {
     "data": {
      "image/png": "[encoded data removed]",
      "text/plain": [
       "<Figure size 432x288 with 1 Axes>"
      ]
     },
     "metadata": {
      "needs_background": "light"
     },
     "output_type": "display_data"
    }
   ],
   "source": [
    "plt.errorbar(p_list_1,network_mean, yerr = network_std, ecolor='red', color='black', fmt='.-', elinewidth=3)\n",
    "plt.xlabel('p values')\n",
    "plt.ylabel('Avg. <d>')\n",
    "plt.title('Errorplot')\n",
    "plt.grid()\n",
    "plt.show()"
   ]
  },
  {
   "cell_type": "markdown",
   "metadata": {
    "id": "KUpd-DvScp1k"
   },
   "source": [
    "*Figure 8: An errorplot displaying the Average path length \\<d> as a function of the p-value, with added standard deviation indication lines (red).*"
   ]
  },
  {
   "cell_type": "markdown",
   "metadata": {
    "id": "KBOcyxeTchIU"
   },
   "source": [
    "**Asnwer:** We see a rapid decrease in average path length even with small rises in p-value when p=0,. After p=0.05, the change in avg. of < d > becomes severely smaller. The standard deviation also becomes smaller with higher value of p, confirming that we indeed do not see severe changes in < d > after p =~ 0.025"
   ]
  },
  {
   "cell_type": "markdown",
   "metadata": {
    "id": "MOOHVESNRFT0"
   },
   "source": [
    "# Part 4: The Barabasi-Albert Model"
   ]
  },
  {
   "cell_type": "markdown",
   "metadata": {
    "id": "_fCpgkM-4OBY"
   },
   "source": [
    "#### 4.1) Create a 100 node BA network using a BA model that you've coded on your own (so don't use the built-in `NetworkX` function, but the one you created during week 3). And plot it using `NetworkX`.\n"
   ]
  },
  {
   "cell_type": "markdown",
   "metadata": {
    "id": "9NptlHae4vb-"
   },
   "source": [
    "**Answer**: First, we create the graph with two nodes and add a link:"
   ]
  },
  {
   "cell_type": "code",
   "execution_count": 34,
   "metadata": {
    "colab": {
     "base_uri": "https://localhost:8080/",
     "height": 319
    },
    "id": "-MjCPPMj4t1R",
    "outputId": "72b6286c-87d9-4438-dd84-c6f82e21e9ec"
   },
   "outputs": [
    {
     "data": {
      "image/png": "[encoded data removed]",
      "text/plain": [
       "<Figure size 432x288 with 1 Axes>"
      ]
     },
     "metadata": {},
     "output_type": "display_data"
    }
   ],
   "source": [
    "G_BA = nx.Graph()\n",
    "G_BA.add_nodes_from([1, 2])\n",
    "G_BA.add_edge(1, 2)\n",
    "nx.draw(G_BA, with_labels=True, font_weight='bold',font_color='white')"
   ]
  },
  {
   "cell_type": "markdown",
   "metadata": {
    "id": "R0Z2vy25dHId"
   },
   "source": [
    "*Figure 9: The Barabasi-Albert Network Model with two nodes and on edge between.*"
   ]
  },
  {
   "cell_type": "markdown",
   "metadata": {
    "id": "mL7YRIzt48mL"
   },
   "source": [
    "We add a third node:"
   ]
  },
  {
   "cell_type": "code",
   "execution_count": 35,
   "metadata": {
    "colab": {
     "base_uri": "https://localhost:8080/",
     "height": 319
    },
    "id": "AE5-jf234-m7",
    "outputId": "c2621a08-d6f3-44e6-eef9-670ac0c41a04"
   },
   "outputs": [
    {
     "data": {
      "image/png": "[encoded data removed]",
      "text/plain": [
       "<Figure size 432x288 with 1 Axes>"
      ]
     },
     "metadata": {},
     "output_type": "display_data"
    }
   ],
   "source": [
    "G_BA.add_node(3)\n",
    "nx.draw(G_BA, with_labels=True, font_weight='bold',font_color='white')"
   ]
  },
  {
   "cell_type": "markdown",
   "metadata": {
    "id": "0wEZomBVdSFG"
   },
   "source": [
    "*Figure 10: The Barabasi-Albert Network Model with three nodes and on edge between the two first nodes.*"
   ]
  },
  {
   "cell_type": "markdown",
   "metadata": {
    "id": "USrDggM95KKN"
   },
   "source": [
    "In the code below, we generate a list of all the existing nodes we currently have. From that list, we pick a random node that the new node should connect to."
   ]
  },
  {
   "cell_type": "code",
   "execution_count": 36,
   "metadata": {
    "colab": {
     "base_uri": "https://localhost:8080/",
     "height": 34
    },
    "id": "56HPJx0j5Zp2",
    "outputId": "0fe5bb60-ddde-4c1e-f669-ce431662695a"
   },
   "outputs": [
    {
     "name": "stdout",
     "output_type": "stream",
     "text": [
      "List of current nodes: (1, 2)\n"
     ]
    }
   ],
   "source": [
    "cur = functools.reduce(operator.concat, G_BA.edges)\n",
    "print(f\"List of current nodes: {cur}\")"
   ]
  },
  {
   "cell_type": "code",
   "execution_count": 37,
   "metadata": {
    "id": "WEQb50zq5k3Z"
   },
   "outputs": [],
   "source": [
    "import random \n",
    "random.seed(42)\n",
    "all_nodelinks = functools.reduce(operator.concat, G_BA.edges)      # All nodes\n",
    "rand_item = all_nodelinks[random.randrange(len(all_nodelinks))]    # Choose a random one\n",
    "G_BA.add_edge(3,rand_item)                                         # Connect the new edge to the random node"
   ]
  },
  {
   "cell_type": "markdown",
   "metadata": {
    "id": "kUc_j1Su5x7x"
   },
   "source": [
    "Repeating this procedure up to 100 nodes:"
   ]
  },
  {
   "cell_type": "code",
   "execution_count": 38,
   "metadata": {
    "colab": {
     "base_uri": "https://localhost:8080/",
     "height": 319
    },
    "id": "y4s73HlS54YA",
    "outputId": "6e00976a-be08-4bb5-be29-b3bfdd31747f"
   },
   "outputs": [
    {
     "data": {
      "image/png": "[encoded data removed]",
      "text/plain": [
       "<Figure size 432x288 with 1 Axes>"
      ]
     },
     "metadata": {},
     "output_type": "display_data"
    }
   ],
   "source": [
    "random.seed(42)\n",
    "for i in range(4,101):\n",
    "    all_nodelinks = functools.reduce(operator.concat, G_BA.edges)   # Get all the edges in a list\n",
    "    rand_item = all_nodelinks[random.randrange(len(all_nodelinks))] # Choose a random node \n",
    "    G_BA.add_edge(i,rand_item)                                      # Add the new node to the randomly choosen node\n",
    "    \n",
    "nx.draw(G_BA, with_labels=True, font_weight='bold',font_color='white')"
   ]
  },
  {
   "cell_type": "markdown",
   "metadata": {
    "id": "e8jgKu_2dXX-"
   },
   "source": [
    "*Figure 11: The Barabasi-Albert Network Model with 100 connected nodes.*"
   ]
  },
  {
   "cell_type": "markdown",
   "metadata": {
    "id": "_iBeMtj06Ami"
   },
   "source": [
    "**Answer:** It is evident from this procedure, that since we pick a random node from the list, the more connected a node is, the high is the probability of you selecting that node (since it will appear mode frequently in the list). \n",
    "\n",
    "As expected, all the nodes are connected as we build the network adding  linked node at each step."
   ]
  },
  {
   "cell_type": "markdown",
   "metadata": {
    "id": "Z_XPet2K6Zla"
   },
   "source": [
    "#### 4.2) Now create a 5000 node network."
   ]
  },
  {
   "cell_type": "markdown",
   "metadata": {
    "id": "4_9Q9qlT6f4z"
   },
   "source": [
    "**Answer**: Adding mode nodes until we reach 5000:"
   ]
  },
  {
   "cell_type": "code",
   "execution_count": 39,
   "metadata": {
    "id": "giaFP6dO6YJd"
   },
   "outputs": [],
   "source": [
    "random.seed(42)\n",
    "for i in range(101,5001):\n",
    "    all_nodelinks = functools.reduce(operator.concat, G_BA.edges)   # Get all the edges in a list\n",
    "    rand_item = all_nodelinks[random.randrange(len(all_nodelinks))] # Choose a random node \n",
    "    G_BA.add_edge(i,rand_item)                                      # Add the new node to the randomly choosen node"
   ]
  },
  {
   "cell_type": "markdown",
   "metadata": {
    "id": "iEX_1KqA6prV"
   },
   "source": [
    "#### 4.2.a) What's the maximum and minimum degree?"
   ]
  },
  {
   "cell_type": "code",
   "execution_count": 40,
   "metadata": {
    "colab": {
     "base_uri": "https://localhost:8080/",
     "height": 51
    },
    "id": "PXQc8uu96sxS",
    "outputId": "6587d433-02a1-4c7c-ab5c-c5e9560b7aac"
   },
   "outputs": [
    {
     "name": "stdout",
     "output_type": "stream",
     "text": [
      "min degree: 1\n",
      "max degree: 152\n"
     ]
    }
   ],
   "source": [
    "degree_sequence = sorted([d for n, d in G_BA.degree()], reverse=True)\n",
    "print(\"min degree:\",min(degree_sequence))\n",
    "print(\"max degree:\",max(degree_sequence))"
   ]
  },
  {
   "cell_type": "markdown",
   "metadata": {
    "id": "fgE4bKwXdjNn"
   },
   "source": [
    "**Answer:** The minimum and maximum degree can be seen in the output above."
   ]
  },
  {
   "cell_type": "markdown",
   "metadata": {
    "id": "DYxDOu626_Mj"
   },
   "source": [
    "#### 4.2.b) Now, bin the degree distribution, for example using `numpy.histogram`."
   ]
  },
  {
   "cell_type": "code",
   "execution_count": 41,
   "metadata": {
    "colab": {
     "base_uri": "https://localhost:8080/",
     "height": 68
    },
    "id": "KSe2DN6O9-23",
    "outputId": "b8e7f597-e2c1-4b0d-dd9d-c6767571749c"
   },
   "outputs": [
    {
     "name": "stdout",
     "output_type": "stream",
     "text": [
      "There are 35 unique degrees,\n",
      " however from the bincount below,\n",
      " we see that they are very unevenly distributed\n"
     ]
    }
   ],
   "source": [
    "print(f'There are {len(np.unique(degree_sequence))} unique degrees,\\n however from the bincount below,\\n we see that they are very unevenly distributed')\n"
   ]
  },
  {
   "cell_type": "code",
   "execution_count": 42,
   "metadata": {
    "colab": {
     "base_uri": "https://localhost:8080/",
     "height": 255
    },
    "id": "DUA3vKBJ-mYb",
    "outputId": "d1395bef-f8f7-445a-a8cf-0ff34b056c27"
   },
   "outputs": [
    {
     "data": {
      "text/plain": [
       "array([   0, 3319,  848,  325,  165,   96,   66,   33,   30,   18,   21,\n",
       "         10,   12,    8,    9,    4,    4,    1,    4,    4,    3,    4,\n",
       "          0,    2,    1,    1,    2,    1,    1,    0,    0,    0,    1,\n",
       "          0,    0,    0,    0,    0,    0,    0,    1,    1,    0,    0,\n",
       "          0,    1,    0,    0,    0,    0,    0,    0,    0,    0,    0,\n",
       "          0,    0,    0,    0,    0,    0,    0,    0,    1,    0,    1,\n",
       "          0,    0,    0,    0,    0,    0,    1,    0,    0,    0,    0,\n",
       "          0,    0,    0,    0,    0,    0,    0,    0,    0,    0,    0,\n",
       "          0,    0,    0,    0,    0,    0,    0,    0,    0,    0,    0,\n",
       "          0,    0,    0,    0,    0,    0,    0,    0,    0,    0,    0,\n",
       "          0,    0,    0,    0,    0,    0,    0,    0,    0,    0,    0,\n",
       "          0,    0,    0,    0,    0,    0,    0,    0,    0,    0,    0,\n",
       "          0,    0,    0,    0,    0,    0,    0,    0,    0,    0,    0,\n",
       "          0,    0,    0,    0,    0,    0,    0,    0,    0,    1])"
      ]
     },
     "execution_count": 42,
     "metadata": {},
     "output_type": "execute_result"
    }
   ],
   "source": [
    "np.bincount(degree_sequence)"
   ]
  },
  {
   "cell_type": "markdown",
   "metadata": {
    "id": "m-V_6f3M_q8Y"
   },
   "source": [
    "Using `np.histogram()` with arbitrary bins may result in indistinguishable bins among the low values, thus we make custom bins as per question 1.5."
   ]
  },
  {
   "cell_type": "code",
   "execution_count": 43,
   "metadata": {
    "colab": {
     "base_uri": "https://localhost:8080/",
     "height": 136
    },
    "id": "gAI0RMjg_9VI",
    "outputId": "a444f8d0-b96b-4a2c-882d-da87732bd0f5"
   },
   "outputs": [
    {
     "data": {
      "text/plain": [
       "(array([3319,  848,  325,  165,   96,   66,   33,   30,   18,   21,   10,\n",
       "          12,    8,    9,    4,    4,    1,    4,    4,    3,    4,    2,\n",
       "           1,    1,    2,    1,    1,    1,    1,    1,    1,    1,    1,\n",
       "           1,    1]),\n",
       " array([  1,   2,   3,   4,   5,   6,   7,   8,   9,  10,  11,  12,  13,\n",
       "         14,  15,  16,  17,  18,  19,  20,  21,  23,  24,  25,  26,  27,\n",
       "         28,  32,  40,  41,  45,  63,  65,  72, 152, 152]))"
      ]
     },
     "execution_count": 43,
     "metadata": {},
     "output_type": "execute_result"
    }
   ],
   "source": [
    "v_ba = np.unique(degree_sequence)\n",
    "v_ba = np.append(v_ba, np.max(v_ba))\n",
    "BA_hist = np.histogram(degree_sequence, bins=v_ba)\n",
    "BA_hist"
   ]
  },
  {
   "cell_type": "markdown",
   "metadata": {
    "id": "deIg_RyQDL8w"
   },
   "source": [
    "Now the bins are created in a sensible way, and we are able to plot the degree distribution."
   ]
  },
  {
   "cell_type": "markdown",
   "metadata": {
    "id": "1Qlu1NJLBuKR"
   },
   "source": [
    "#### 4.2.c) Plot the distribution. Plot it with both linear and log-log axes."
   ]
  },
  {
   "cell_type": "code",
   "execution_count": 44,
   "metadata": {
    "colab": {
     "base_uri": "https://localhost:8080/",
     "height": 295
    },
    "id": "2dKltcWmCLDS",
    "outputId": "ad02966f-ede5-4c89-8c50-6b1651234b97"
   },
   "outputs": [
    {
     "data": {
      "image/png": "[encoded data removed]",
      "text/plain": [
       "<Figure size 432x288 with 1 Axes>"
      ]
     },
     "metadata": {
      "needs_background": "light"
     },
     "output_type": "display_data"
    }
   ],
   "source": [
    "plt.scatter(BA_hist[1][:-1], BA_hist[0], s=8)\n",
    "plt.title(\"Degree distribution of BA network - Linear axes\")\n",
    "plt.xlabel(\"Degree\")\n",
    "plt.ylabel(\"Frequency\")\n",
    "plt.show()"
   ]
  },
  {
   "cell_type": "markdown",
   "metadata": {
    "id": "l3bdrC5jdsIC"
   },
   "source": [
    "*Figure 12: The degree distribution (frequency) of the Barabasi-Albert Network Model with 5000 nodes.*"
   ]
  },
  {
   "cell_type": "code",
   "execution_count": 45,
   "metadata": {
    "colab": {
     "base_uri": "https://localhost:8080/",
     "height": 299
    },
    "id": "ecBB44aCCSVA",
    "outputId": "d0406466-08c8-4b4a-dfa2-e946e2dd23ef"
   },
   "outputs": [
    {
     "data": {
      "image/png": "[encoded data removed]",
      "text/plain": [
       "<Figure size 432x288 with 1 Axes>"
      ]
     },
     "metadata": {
      "needs_background": "light"
     },
     "output_type": "display_data"
    }
   ],
   "source": [
    "fig, ax = plt.subplots()\n",
    "ax.scatter(BA_hist[1][:-1],BA_hist[0], s=8)\n",
    "ax.set_yscale(\"log\")\n",
    "ax.set_xscale(\"log\")\n",
    "plt.xlabel(\"log(Degree)\")\n",
    "plt.ylabel(\"log(Frequency)\")\n",
    "plt.title(\"Degree distribution of BA network - Log-log axes\")\n",
    "plt.show()"
   ]
  },
  {
   "cell_type": "markdown",
   "metadata": {
    "id": "XGPoHS_Hd5Ct"
   },
   "source": [
    "*Figure 13: The degree distribution (frequency) of the Barabasi-Albert Network Model with 5000 nodes on log-log axis.*"
   ]
  },
  {
   "cell_type": "markdown",
   "metadata": {
    "id": "ab6btAdjrA3M"
   },
   "source": [
    "**Commentary for figure 13+14**: In figure 12, we notice a large frequency of nodes with a low degree, a frequency that drops to nearly zero when the degree count starts to rise even slighly. To examine this drop further, we displayed the graph with log-log axis in figure 13. Here, we see that the \"drop\" in frequency we saw in figure 12 corresponds to a power-function (since its a relatively straight line in figure 13). Furthermore, we see that the frequency of nodes with degrees higher than ~1.2 ($log(10^{1.2})$) is almost 0 (log(1)). \n",
    "\n",
    "This is as expected, since we in *Network Science* chapther 5 learn that the growth property of the Barabasi-Albert Network grows with the *Power law* [2].  "
   ]
  },
  {
   "cell_type": "markdown",
   "metadata": {
    "id": "19T3cLGCRFeG"
   },
   "source": [
    "# Part 5: Power-laws and the friendship paradox"
   ]
  },
  {
   "cell_type": "markdown",
   "metadata": {
    "id": "4b3CNKPk8ke6"
   },
   "source": [
    "#### 5.1) Pick a node *i* at random (e.g.) use random.choice). Find its degree"
   ]
  },
  {
   "cell_type": "code",
   "execution_count": 46,
   "metadata": {
    "colab": {
     "base_uri": "https://localhost:8080/",
     "height": 34
    },
    "id": "bUGyBT3j85Fi",
    "outputId": "879a1668-b1d9-4af2-aef3-6b8358a18265"
   },
   "outputs": [
    {
     "name": "stdout",
     "output_type": "stream",
     "text": [
      "Random node:  912\n"
     ]
    }
   ],
   "source": [
    "random.seed(42)\n",
    "rand_node = random.choice(range(5000))\n",
    "print(\"Random node: \", rand_node)"
   ]
  },
  {
   "cell_type": "code",
   "execution_count": 47,
   "metadata": {
    "colab": {
     "base_uri": "https://localhost:8080/",
     "height": 34
    },
    "id": "jrG9fRDQ_hjh",
    "outputId": "2fb7ea28-7baf-4997-fcc9-f00463bceb4a"
   },
   "outputs": [
    {
     "name": "stdout",
     "output_type": "stream",
     "text": [
      "The degree of node 912 is 1\n"
     ]
    }
   ],
   "source": [
    "print(f'The degree of node {rand_node} is {G_BA.degree(rand_node)}')"
   ]
  },
  {
   "cell_type": "markdown",
   "metadata": {
    "id": "Ux8taWVR86t9"
   },
   "source": [
    "#### 5.2) Find *i*'s neighbors. And calculate their average degree"
   ]
  },
  {
   "cell_type": "code",
   "execution_count": 48,
   "metadata": {
    "colab": {
     "base_uri": "https://localhost:8080/",
     "height": 34
    },
    "id": "vQxdrvfvRqwE",
    "outputId": "95ddc6d4-c14c-44e9-dc3a-21a090c6b1e0"
   },
   "outputs": [
    {
     "name": "stdout",
     "output_type": "stream",
     "text": [
      "The average degree over i's neighbors is: 15.0\n"
     ]
    }
   ],
   "source": [
    "node_neighbors = [n for n in G_BA.neighbors(rand_node)]                       # Nodes of all neighbors\n",
    "neighbors_avg_degree = np.mean([d for n, d in G_BA.degree(node_neighbors)])   # Avg. degree of neighboring nodes\n",
    "print('The average degree over i\\'s neighbors is:', neighbors_avg_degree)"
   ]
  },
  {
   "cell_type": "markdown",
   "metadata": {
    "id": "9i5PVeHK9EUo"
   },
   "source": [
    "#### 5.3) Compare the two numbers to check if it's true that *i*'s friends (on average) have more friends than *i*."
   ]
  },
  {
   "cell_type": "code",
   "execution_count": 49,
   "metadata": {
    "colab": {
     "base_uri": "https://localhost:8080/",
     "height": 34
    },
    "id": "OdPi6VKZ9j_f",
    "outputId": "58c1900f-5192-4ee1-f8e0-3fd313f3a657"
   },
   "outputs": [
    {
     "data": {
      "text/plain": [
       "True"
      ]
     },
     "execution_count": 49,
     "metadata": {},
     "output_type": "execute_result"
    }
   ],
   "source": [
    "i_avg_degree = G_BA.degree(rand_node) # Avg degree for node i\n",
    "neighbors_avg_degree > i_avg_degree   # Does neighbors have more neighbors than node i?"
   ]
  },
  {
   "cell_type": "markdown",
   "metadata": {
    "id": "otCgc4fx9UOi"
   },
   "source": [
    "Node *i* has a degree of 1, whereas *i*'s neighbors (in this case only 1 neighbor) has an average degree of 15. Thus, the friendship paradox, that \"*On average my friends are more popular than I am*\"  is for the random node 912 true. "
   ]
  },
  {
   "cell_type": "markdown",
   "metadata": {
    "id": "811g1myL9OqN"
   },
   "source": [
    "#### 5.4) Do this 1000 times. How many out of those 1000 times is the friendship paradox true?"
   ]
  },
  {
   "cell_type": "code",
   "execution_count": 50,
   "metadata": {
    "colab": {
     "base_uri": "https://localhost:8080/",
     "height": 51
    },
    "id": "IJB9uTPc9PWt",
    "outputId": "f29efa5e-ae86-4414-9f35-17a7bfeeeb7f"
   },
   "outputs": [
    {
     "name": "stdout",
     "output_type": "stream",
     "text": [
      "The paradox is true in 852 cases\n",
      "The paradox is false in the remaining 148 cases\n"
     ]
    }
   ],
   "source": [
    "random.seed(42)\n",
    "count_true = 0\n",
    "count_false = 0\n",
    "\n",
    "for i in range(1000):\n",
    "    node = random.choice(range(5000))\n",
    "    node_neighbor = [n for n in G_BA.neighbors(node)]\n",
    "    mn = np.mean([d for n, d in G_BA.degree(node_neighbor)]) \n",
    "    if mn > G_BA.degree(node):\n",
    "        count_true = count_true + 1\n",
    "    else:\n",
    "        count_false = count_false + 1\n",
    "\n",
    "print(f'The paradox is true in {count_true} cases')\n",
    "print(f'The paradox is false in the remaining {count_false} cases')\n"
   ]
  },
  {
   "cell_type": "markdown",
   "metadata": {
    "id": "-XM6ELcfWQlI"
   },
   "source": [
    "**Answer:** We see that the Friendship Paradox is true in most cases (~85%). "
   ]
  },
  {
   "cell_type": "markdown",
   "metadata": {
    "id": "R0vRUhbx9VUu"
   },
   "source": [
    "#### 5.5) Compare to the ER network of same size and same *P*. What are the differences? Explain in your own words. Hints: To get started, take a look at the degree distribution, and study the number of connected components."
   ]
  },
  {
   "cell_type": "markdown",
   "metadata": {
    "id": "m6T1AUum-fwN"
   },
   "source": [
    "We create the ER network to be used in the comparison\n"
   ]
  },
  {
   "cell_type": "code",
   "execution_count": 51,
   "metadata": {
    "colab": {
     "base_uri": "https://localhost:8080/",
     "height": 34
    },
    "id": "4nI44pU2-Upx",
    "outputId": "bc0c8893-cf1a-4a68-fa6d-b0162e7dd8bd"
   },
   "outputs": [
    {
     "name": "stdout",
     "output_type": "stream",
     "text": [
      "Probability of link: 0.0004\n"
     ]
    }
   ],
   "source": [
    "#Find p using p = k/(N-1)\n",
    "k = np.mean(degree_sequence) #Average degree of BA network\n",
    "N = 5000\n",
    "\n",
    "p = k/(N-1)\n",
    "print(f'Probability of link:', p)"
   ]
  },
  {
   "cell_type": "code",
   "execution_count": 52,
   "metadata": {
    "id": "FGSK2BtW-_dh"
   },
   "outputs": [],
   "source": [
    "G_ER = nx.erdos_renyi_graph(N, p, seed=42)"
   ]
  },
  {
   "cell_type": "markdown",
   "metadata": {
    "id": "Grt9ZGRqDgG9"
   },
   "source": [
    "First we find the min og max degree for the random ER Network and comapre the result to the BA results."
   ]
  },
  {
   "cell_type": "code",
   "execution_count": 53,
   "metadata": {
    "id": "_Jl2kGps_L3q"
   },
   "outputs": [],
   "source": [
    "degree_sequence_er = sorted([d for n, d in G_ER.degree()], reverse=True)\n",
    "degree_sequence_er_min = min(degree_sequence_er)\n",
    "degree_sequence_er_max = max(degree_sequence_er)\n",
    "\n",
    "degree_sequence_ba_min = min(degree_sequence)\n",
    "degree_sequence_ba_max = max(degree_sequence)"
   ]
  },
  {
   "cell_type": "markdown",
   "metadata": {
    "id": "rr294w1w4EO8"
   },
   "source": [
    "The min and max degree for the ER and BA Network is displayed in the table below\n",
    "\n",
    "Network  | min | max\n",
    "--- | --- | ---\n",
    "ER | 0   | 8\n",
    "BA | 1   | 152\n",
    "\n",
    "The table shows that the BA Network have a minimum degree of 1 since when new nodes are added, an edges is immediately constructed between the new node and an exsisting. Additionally, the BA Network have a much higher max degree, which is because the ER network randomly choose edges. While ER network randomly choose an edge, the BA model use a procedure where a new node tends to link to a node which have a higher degree.[2]"
   ]
  },
  {
   "cell_type": "markdown",
   "metadata": {
    "id": "RRMPKNIR89l8"
   },
   "source": [
    "Now we look at the degree distribution of the ER network using the same approach as before."
   ]
  },
  {
   "cell_type": "code",
   "execution_count": 54,
   "metadata": {
    "colab": {
     "base_uri": "https://localhost:8080/",
     "height": 51
    },
    "id": "x0r_EYnADm_D",
    "outputId": "7520e9fb-09bf-4ce5-e401-c384d99614dc"
   },
   "outputs": [
    {
     "data": {
      "text/plain": [
       "(array([ 722, 1410, 1316,  901,  421,  162,   50,   15,    3]),\n",
       " array([0, 1, 2, 3, 4, 5, 6, 7, 8, 8]))"
      ]
     },
     "execution_count": 54,
     "metadata": {},
     "output_type": "execute_result"
    }
   ],
   "source": [
    "v_er = np.unique(degree_sequence_er)\n",
    "v_er = np.append(v_er, np.max(v_er))\n",
    "ER_hist = np.histogram(degree_sequence_er, bins=v_er)\n",
    "ER_hist"
   ]
  },
  {
   "cell_type": "code",
   "execution_count": 55,
   "metadata": {
    "colab": {
     "base_uri": "https://localhost:8080/",
     "height": 295
    },
    "id": "QUSPXlFuDnGC",
    "outputId": "5cf20f65-965d-44c9-fa21-62b0aebcff51"
   },
   "outputs": [
    {
     "data": {
      "image/png": "[encoded data removed]",
      "text/plain": [
       "<Figure size 432x288 with 1 Axes>"
      ]
     },
     "metadata": {
      "needs_background": "light"
     },
     "output_type": "display_data"
    }
   ],
   "source": [
    "plt.scatter(ER_hist[1][:-1], ER_hist[0], s=8)\n",
    "plt.title(\"Degree distribution of ER network - Linear axes\")\n",
    "plt.xlabel(\"Degree\")\n",
    "plt.ylabel(\"Frequency\")\n",
    "plt.show()"
   ]
  },
  {
   "cell_type": "markdown",
   "metadata": {
    "id": "VXsdSX9xd_Ag"
   },
   "source": [
    "*Figure 14: The degree distribution (frequency) of the Erdős-Rényi Network Model with 5000 nodes.*"
   ]
  },
  {
   "cell_type": "code",
   "execution_count": 56,
   "metadata": {
    "colab": {
     "base_uri": "https://localhost:8080/",
     "height": 299
    },
    "id": "fQdpfLXXDnEb",
    "outputId": "b6b921ef-47ed-4a9a-cf35-963ddb26190f"
   },
   "outputs": [
    {
     "data": {
      "image/png": "[encoded data removed]",
      "text/plain": [
       "<Figure size 432x288 with 1 Axes>"
      ]
     },
     "metadata": {
      "needs_background": "light"
     },
     "output_type": "display_data"
    }
   ],
   "source": [
    "fig, ax = plt.subplots()\n",
    "ax.scatter(ER_hist[1][:-1],ER_hist[0], s=8)\n",
    "ax.set_yscale(\"log\")\n",
    "ax.set_xscale(\"log\")\n",
    "plt.xlabel(\"log(Degree)\")\n",
    "plt.ylabel(\"log(Frequency)\")\n",
    "plt.title(\"Degree distribution of ER network - Log-log axes\")\n",
    "plt.show()"
   ]
  },
  {
   "cell_type": "markdown",
   "metadata": {
    "id": "DM4YpZbceRB2"
   },
   "source": [
    "*Figure 15: The degree distribution (frequency) of the Erdős-Rényi Network Model with 5000 nodes on log-log axes.*"
   ]
  },
  {
   "cell_type": "markdown",
   "metadata": {
    "id": "ncSZxxtquP5v"
   },
   "source": [
    "**Commentary for figure 14+15**: We see that the ER network, compared to the BA network above, does not follow the power-law that we saw in the BA model. In the ER model, the frequency of nodes with lower degrees stay high for much longer than the BA network in figures 12 and 13. "
   ]
  },
  {
   "cell_type": "markdown",
   "metadata": {
    "id": "NpvFJ8PuFWtj"
   },
   "source": [
    "Next, we look at the number of connected components for the BA and ER Network"
   ]
  },
  {
   "cell_type": "code",
   "execution_count": 57,
   "metadata": {
    "colab": {
     "base_uri": "https://localhost:8080/",
     "height": 34
    },
    "id": "BFpW-rX_DnCV",
    "outputId": "f9648d85-d8cf-4b29-c0a5-5425e5e2775a"
   },
   "outputs": [
    {
     "data": {
      "text/plain": [
       "1"
      ]
     },
     "execution_count": 57,
     "metadata": {},
     "output_type": "execute_result"
    }
   ],
   "source": [
    "nx.number_connected_components(G_BA) # Barabási-Albert Network"
   ]
  },
  {
   "cell_type": "code",
   "execution_count": 58,
   "metadata": {
    "colab": {
     "base_uri": "https://localhost:8080/",
     "height": 34
    },
    "id": "RvdedagMFa78",
    "outputId": "656e6c28-57b3-4486-8831-675b319600f6"
   },
   "outputs": [
    {
     "data": {
      "text/plain": [
       "869"
      ]
     },
     "execution_count": 58,
     "metadata": {},
     "output_type": "execute_result"
    }
   ],
   "source": [
    "nx.number_connected_components(G_ER) # Erdős-Rényi Network"
   ]
  },
  {
   "cell_type": "markdown",
   "metadata": {
    "id": "mXk9iDhO9hbZ"
   },
   "source": [
    "**Explanation**: The BA Network is constructed using the Barabási-Albert Model, which uses the growth and preferential attachment mechanisms. This means that a new node is added at each timestep and the node has a higher probability of linking to the more connected nodes.[2] This results in a BA Network which only contains one connected component (as seen in cell [57] above). The Random Erdős-Rényi Network, on the other hand, assumes that the number of nodes is fixed and the edges are constructed randomly, resulting in the larger number of connected components in cell [58] above. [2]"
   ]
  },
  {
   "cell_type": "markdown",
   "metadata": {
    "id": "LMleMeEfXZif"
   },
   "source": [
    "# References\n",
    "\n",
    "[1] Barabási, A. L. (2016). Network science. Cambridge university press, Chapter 3.\n",
    "\n",
    "[2] Barabási, A. L. (2016). Network science. Cambridge university press, Chapter 5."
   ]
  }
 ],
 "metadata": {
  "colab": {
   "collapsed_sections": [],
   "name": "Assignment1.ipynb",
   "provenance": []
  },
  "kernelspec": {
   "display_name": "Python 3",
   "language": "python",
   "name": "python3"
  },
  "language_info": {
   "codemirror_mode": {
    "name": "ipython",
    "version": 3
   },
   "file_extension": ".py",
   "mimetype": "text/x-python",
   "name": "python",
   "nbconvert_exporter": "python",
   "pygments_lexer": "ipython3",
   "version": "3.7.4"
  }
 },
 "nbformat": 4,
 "nbformat_minor": 1
}
