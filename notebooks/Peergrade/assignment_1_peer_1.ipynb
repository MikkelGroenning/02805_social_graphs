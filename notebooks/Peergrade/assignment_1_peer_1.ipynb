{
 "cells": [
  {
   "cell_type": "markdown",
   "metadata": {},
   "source": [
    "# Assignement 1 - Social Graphing - 29-09/2020"
   ]
  },
  {
   "cell_type": "markdown",
   "metadata": {},
   "source": [
    "## Part 1: Binning degree distributions"
   ]
  },
  {
   "cell_type": "code",
   "execution_count": 1,
   "metadata": {},
   "outputs": [],
   "source": [
    "import numpy as np\n",
    "import random\n",
    "import statistics\n",
    "import math\n",
    "import networkx as nx\n",
    "import matplotlib.pyplot as plt\n",
    "%matplotlib inline"
   ]
  },
  {
   "cell_type": "markdown",
   "metadata": {},
   "source": [
    "### Binning real numbers\n",
    "\n",
    "**Usethe random library generate 5000 data points from a Gaussian distribution with $\\mu = 2$ and $\\sigma = 0.125$.**"
   ]
  },
  {
   "cell_type": "code",
   "execution_count": 2,
   "metadata": {},
   "outputs": [],
   "source": [
    "mu , sigma = 2 , 0.125\n",
    "numbers=[]\n",
    "for i in range(5000):\n",
    "    numbers.append(random.gauss(mu, sigma))"
   ]
  },
  {
   "cell_type": "markdown",
   "metadata": {},
   "source": [
    "**Use numpy.histogram to bin those number into 10 bins. What does the numpy.histogram function return? Do the two arrays have the same length?**"
   ]
  },
  {
   "cell_type": "code",
   "execution_count": 3,
   "metadata": {},
   "outputs": [],
   "source": [
    "hist, bin1 = np.histogram(numbers, bins=10)"
   ]
  },
  {
   "cell_type": "markdown",
   "metadata": {},
   "source": [
    "The numpy histogram functions returns 2 vectors, The bin vector contains the x-coordinates of the bars, where the hist vector contains magnitude of the the bins."
   ]
  },
  {
   "cell_type": "code",
   "execution_count": 4,
   "metadata": {},
   "outputs": [
    {
     "name": "stdout",
     "output_type": "stream",
     "text": [
      "Shape of hist vector is (10,)\n",
      "Shape of bin vector is (11,) \n",
      "The two vectors does not have the same lenght\n"
     ]
    }
   ],
   "source": [
    "print(f\"Shape of hist vector is {hist.shape}\")\n",
    "print(f\"Shape of bin vector is {bin1.shape} \\nThe two vectors does not have the same lenght\" )"
   ]
  },
  {
   "cell_type": "markdown",
   "metadata": {},
   "source": [
    "**Use matplotlib.pyplot.plot to plot the binned data. You will have to deal with the fact that the counts- and bin-arrays have different lengths. Explain how you deal with this problem and why.**"
   ]
  },
  {
   "cell_type": "code",
   "execution_count": 5,
   "metadata": {},
   "outputs": [
    {
     "data": {
      "image/png": "[encoded data removed]",
      "text/plain": [
       "<Figure size 432x288 with 1 Axes>"
      ]
     },
     "metadata": {
      "needs_background": "light"
     },
     "output_type": "display_data"
    }
   ],
   "source": [
    "fig, ax = plt.subplots()\n",
    "ax.bar(bin1[:-1], hist, width=np.diff(bin1), edgecolor=\"black\", align=\"edge\")\n",
    "ax.set_ylabel(\"Number of observations\")\n",
    "ax.set_xlabel(\"Bins\")\n",
    "ax.set_title(\"Histogram of 5000 random data points from gaussian distribution\")\n",
    "plt.show()"
   ]
  },
  {
   "cell_type": "markdown",
   "metadata": {},
   "source": [
    "_Figure 1_1: Bar plot of 5000 data points generated using gaussian distribution with mu = 2, sigma = 0.125_"
   ]
  },
  {
   "cell_type": "markdown",
   "metadata": {},
   "source": [
    "By using bar plot, we exclude the last element of the bin vector, since the interval between the bins are the same, it bar plot only need the start coordinate of the last bin."
   ]
  },
  {
   "cell_type": "markdown",
   "metadata": {},
   "source": [
    "### Binning integers"
   ]
  },
  {
   "cell_type": "markdown",
   "metadata": {},
   "source": [
    "**Use numpy.random.poisson to generate 5000 numbers drawn from a Poisson distribution characterized by $\\lambda = 10$. Find the maximum and minimum value of your 5000 random numbers.**"
   ]
  },
  {
   "cell_type": "code",
   "execution_count": 6,
   "metadata": {},
   "outputs": [
    {
     "name": "stdout",
     "output_type": "stream",
     "text": [
      "The maximum value is 24\n",
      "The minimum value is 0\n"
     ]
    }
   ],
   "source": [
    "numbers2 = np.random.poisson(lam=10,size=5000)\n",
    "print(f\"The maximum value is {np.max(numbers2)}\")\n",
    "print(f\"The minimum value is {np.min(numbers2)}\")"
   ]
  },
  {
   "cell_type": "markdown",
   "metadata": {},
   "source": [
    "**Create a vector $v$ that results in a binning that puts each integer value in its own bin and where the first bin contains the minimum number you found above, and the last bin contains the maximum number**"
   ]
  },
  {
   "cell_type": "code",
   "execution_count": 7,
   "metadata": {},
   "outputs": [
    {
     "data": {
      "text/plain": [
       "array([ 0,  1,  2,  3,  4,  5,  6,  7,  8,  9, 10, 11, 12, 13, 14, 15, 16,\n",
       "       17, 18, 19, 20, 21, 22, 23, 24])"
      ]
     },
     "execution_count": 7,
     "metadata": {},
     "output_type": "execute_result"
    }
   ],
   "source": [
    "v = np.unique(numbers2)\n",
    "v"
   ]
  },
  {
   "cell_type": "markdown",
   "metadata": {},
   "source": [
    "**Use the vector by setting numpy.histogram's bin parameter as bin = $v$. What is the sum over bin counts? Explain how the binning-vectors first and last element relates to the min and max from the Poisson distribution.**"
   ]
  },
  {
   "cell_type": "code",
   "execution_count": 8,
   "metadata": {},
   "outputs": [
    {
     "name": "stdout",
     "output_type": "stream",
     "text": [
      "The sum over bin counts is {0: 1, 1: 2, 2: 7, 3: 34, 4: 121, 5: 175, 6: 312, 7: 436, 8: 565, 9: 601, 10: 650, 11: 592, 12: 471, 13: 371, 14: 228, 15: 172, 16: 104, 17: 73, 18: 53, 19: 17, 20: 8, 21: 2, 22: 1, 23: 4}\n"
     ]
    }
   ],
   "source": [
    "hist2, bin2 = np.histogram(numbers2, bins=v)\n",
    "bin_counts = dict(zip(v, hist2))\n",
    "print(f\"The sum over bin counts is {bin_counts}\")"
   ]
  },
  {
   "cell_type": "markdown",
   "metadata": {},
   "source": [
    "**Use a bar chart (matplotlib.pyplot.bar) to plot the distribution**"
   ]
  },
  {
   "cell_type": "code",
   "execution_count": 9,
   "metadata": {},
   "outputs": [
    {
     "data": {
      "image/png": "[encoded data removed]",
      "text/plain": [
       "<Figure size 432x288 with 1 Axes>"
      ]
     },
     "metadata": {
      "needs_background": "light"
     },
     "output_type": "display_data"
    }
   ],
   "source": [
    "fig, ax = plt.subplots()\n",
    "ax.bar(bin2[:-1], hist2, width=np.diff(bin2), edgecolor=\"black\", align=\"edge\")\n",
    "ax.set_ylabel(\"Number of observations\")\n",
    "ax.set_xlabel(\"Bins\")\n",
    "ax.set_title(\"Poisson distribution with manually created bins\")\n",
    "\n",
    "plt.show()"
   ]
  },
  {
   "cell_type": "markdown",
   "metadata": {},
   "source": [
    "_Figure 1_2: Bar plot of 5000 data points generated from the poission distriution lambda = 10, with manually created bins_"
   ]
  },
  {
   "cell_type": "markdown",
   "metadata": {},
   "source": [
    "### Binning and plotting degree distributions."
   ]
  },
  {
   "cell_type": "markdown",
   "metadata": {},
   "source": [
    "**Generate the Erdös-Renyi (ER), network which has a degree distribution that matches the Poisson distribution above**"
   ]
  },
  {
   "cell_type": "markdown",
   "metadata": {},
   "source": [
    "To generate Erdös-renyi network we have to find p. N is all ready known. Lambda from the poission distribution corresponds to the average degree <k> and we can hereby solve the $<k> = p*(n-1)$ for p"
   ]
  },
  {
   "cell_type": "code",
   "execution_count": 10,
   "metadata": {},
   "outputs": [],
   "source": [
    "n=5000\n",
    "p=10/(n-1)"
   ]
  },
  {
   "cell_type": "markdown",
   "metadata": {},
   "source": [
    "**Now, use networkx to create the graph and extract the degree distribution.**"
   ]
  },
  {
   "cell_type": "code",
   "execution_count": 11,
   "metadata": {},
   "outputs": [],
   "source": [
    "er_graph=nx.erdos_renyi_graph(n, p, seed=None, directed=False)\n",
    "degress = [er_graph.degree(i) for i in er_graph.nodes()]"
   ]
  },
  {
   "cell_type": "markdown",
   "metadata": {},
   "source": [
    "**create a nice bar plot of the degree distribution, including axes labels and a plot title. Make sure that it looks like the Poisson distribution you plotted above.**"
   ]
  },
  {
   "cell_type": "code",
   "execution_count": 12,
   "metadata": {},
   "outputs": [
    {
     "data": {
      "image/png": "[encoded data removed]",
      "text/plain": [
       "<Figure size 432x288 with 1 Axes>"
      ]
     },
     "metadata": {
      "needs_background": "light"
     },
     "output_type": "display_data"
    }
   ],
   "source": [
    "hist3, bin3 = np.histogram(degress, bins=v)\n",
    "fig, ax = plt.subplots()\n",
    "ax.bar(bin3[:-1], hist3, width=np.diff(bin3), edgecolor=\"black\")\n",
    "ax.set_ylabel(\"Number of observations\")\n",
    "ax.set_xlabel(\"Bins\")\n",
    "ax.set_title(\"Degree distribution of Erdös-Renyi network\")\n",
    "\n",
    "plt.show()"
   ]
  },
  {
   "cell_type": "markdown",
   "metadata": {},
   "source": [
    "_Figure 1_3: Bar plot of the degree distribution of the Erdös-Renyi network_"
   ]
  },
  {
   "cell_type": "markdown",
   "metadata": {},
   "source": [
    "## Part 2: Random networks and plotting in networkx"
   ]
  },
  {
   "cell_type": "markdown",
   "metadata": {},
   "source": [
    "**Consider an Erdős-Rényi network with N = 3,000 nodes, connected to each other with probability p = 10^(–3).** \n",
    "\n",
    "* **What is the expected number of links, 〈L〉?**"
   ]
  },
  {
   "cell_type": "code",
   "execution_count": 13,
   "metadata": {},
   "outputs": [
    {
     "name": "stdout",
     "output_type": "stream",
     "text": [
      "The expected number of links is 4498.5\n"
     ]
    }
   ],
   "source": [
    "p = 10**(-3)\n",
    "N = 3000\n",
    "L = (p*N*(N-1))/2 #Box 3.11, Network Science by Albert-Laszlo Barabasi section 3.11\n",
    "print(f\"The expected number of links is {L}\")"
   ]
  },
  {
   "cell_type": "markdown",
   "metadata": {},
   "source": [
    "**In which regime is the network?**"
   ]
  },
  {
   "cell_type": "markdown",
   "metadata": {},
   "source": [
    "The average degree of a network 〈k〉 determine which regime the network belongs to. So we start by calculating 〈k〉."
   ]
  },
  {
   "cell_type": "code",
   "execution_count": 14,
   "metadata": {},
   "outputs": [
    {
     "name": "stdout",
     "output_type": "stream",
     "text": [
      "The average degree <k> is 2.999\n"
     ]
    }
   ],
   "source": [
    "k = p*(N-1)\n",
    "print(f\"The average degree <k> is {k}\")"
   ]
  },
  {
   "cell_type": "markdown",
   "metadata": {},
   "source": [
    "The network belongs to the supercritical regime because 〈k〉 > 1. # Network Science by Albert-Laszlo Barabasi section 3.6"
   ]
  },
  {
   "cell_type": "markdown",
   "metadata": {},
   "source": [
    "**Calculate the probability p_c so that the network is at the critical point**"
   ]
  },
  {
   "cell_type": "markdown",
   "metadata": {},
   "source": [
    "A network is a the critical point if its 〈k〉 = 1. So we isolate p in the formal for 〈k〉. #Network Science by Albert-Laszlo Barabasi section 3.6"
   ]
  },
  {
   "cell_type": "code",
   "execution_count": 15,
   "metadata": {},
   "outputs": [
    {
     "name": "stdout",
     "output_type": "stream",
     "text": [
      "0.00033344448149383126\n"
     ]
    }
   ],
   "source": [
    "k = 1\n",
    "N = 3000\n",
    "p = k/(N-1)\n",
    "print(p)"
   ]
  },
  {
   "cell_type": "markdown",
   "metadata": {},
   "source": [
    "p_c should be 0.00033344448149383126 for the network with 3000 nodes to be at the critical point."
   ]
  },
  {
   "cell_type": "markdown",
   "metadata": {},
   "source": [
    "**Given the linking probability p = 10^(–3), calculate the number of nodes N^(cr) so that the network has only one component.**"
   ]
  },
  {
   "cell_type": "markdown",
   "metadata": {},
   "source": [
    "A network with only one component belongs to the connected regime. So there applies two crateria;\n",
    "1. 〈k〉 > ln(N)\n",
    "2. p > ln(N)/N\n",
    "\n",
    "And with the values from the question;\n",
    "1. 10^(-3) * (N-1) > ln(N)\n",
    "2. 10^(-3) > ln(N)/N\n",
    "\n",
    "The two equations with one unknown is solved using the website; https://www.wolframalpha.com/input/?i=10%5E-3*%28n-1%29+%3E+ln%28n%29+and+10%5E-3+%3E+ln%28n%29%2Fn&fbclid=IwAR1joTQ-hRdIru8YGjic3iwGYD2Ezfvgaqr1tWLSnNdsa3XKedEFZHag0y0"
   ]
  },
  {
   "cell_type": "markdown",
   "metadata": {},
   "source": [
    "The number of nodes should either be 0 < n < 1 or n > 9119.13"
   ]
  },
  {
   "cell_type": "markdown",
   "metadata": {},
   "source": [
    "**For the network in (d), calculate the average degree 〈k^(cr)〉 and the average distance between two randomly chosen nodes 〈d〉.**"
   ]
  },
  {
   "cell_type": "markdown",
   "metadata": {},
   "source": [
    "The network from question (d) have 9120 nodes because a network can't have half nodes. The linking probability p = 10^(–3)."
   ]
  },
  {
   "cell_type": "code",
   "execution_count": 16,
   "metadata": {},
   "outputs": [
    {
     "name": "stdout",
     "output_type": "stream",
     "text": [
      "The average degree is 9.119\n",
      "The average distance is 4.12522144293705\n"
     ]
    }
   ],
   "source": [
    "# average degree\n",
    "N = 9120\n",
    "p = 10**(-3)\n",
    "k = p*(N-1)\n",
    "print(f'The average degree is {k}')\n",
    "\n",
    "# average distance\n",
    "d = math.log(N)/math.log(k)\n",
    "print(f'The average distance is {d}')"
   ]
  },
  {
   "cell_type": "markdown",
   "metadata": {},
   "source": [
    "**Calculate the degree distribution p_k of this network (approximate with a Poisson degree distribution).**"
   ]
  },
  {
   "cell_type": "code",
   "execution_count": 17,
   "metadata": {},
   "outputs": [],
   "source": [
    "yakse = []\n",
    "x = np.arange(50)\n",
    "for i in range(len(x)):\n",
    "    yakse.append(math.exp(-k)*((k**x[i])/math.factorial(x[i])))"
   ]
  },
  {
   "cell_type": "code",
   "execution_count": 18,
   "metadata": {},
   "outputs": [
    {
     "data": {
      "image/png": "[encoded data removed]",
      "text/plain": [
       "<Figure size 432x288 with 1 Axes>"
      ]
     },
     "metadata": {
      "needs_background": "light"
     },
     "output_type": "display_data"
    }
   ],
   "source": [
    "plt.plot(x, yakse,'r')\n",
    "plt.xlabel('k')\n",
    "plt.ylabel('p_k')\n",
    "plt.title('Degree distribution')\n",
    "plt.show()"
   ]
  },
  {
   "cell_type": "markdown",
   "metadata": {},
   "source": [
    "_Figure 2_1: The degree distribution of a network with 9120 nodes and a linking probability of 10^(-3), You can see that distributions have a peak around 〈k〉, the average degree. Which makes sense because the probability that a randomly chosen node has the degree of 〈k〉 is the highest._"
   ]
  },
  {
   "cell_type": "markdown",
   "metadata": {},
   "source": [
    "**Paths. Plot a random network with 200 nodes and an average degree of 1.5. (I suggest using networkx.draw and reading the documentation carefully to get an overview of all the options and what they look likme. For example, you may want to shrink the node size).**"
   ]
  },
  {
   "cell_type": "code",
   "execution_count": 19,
   "metadata": {},
   "outputs": [
    {
     "data": {
      "image/png": "[encoded data removed]",
      "text/plain": [
       "<Figure size 432x288 with 1 Axes>"
      ]
     },
     "metadata": {},
     "output_type": "display_data"
    }
   ],
   "source": [
    "k = 1.5\n",
    "N = 200\n",
    "p = k/(N-1)\n",
    "\n",
    "G = nx.erdos_renyi_graph(N,p)\n",
    "pos = nx.spring_layout(G,k=0.1,iterations=50)\n",
    "nx.draw(G, pos, with_labels=False, node_size=60)"
   ]
  },
  {
   "cell_type": "markdown",
   "metadata": {},
   "source": [
    "_Figure 2_2: Random network with N = 200 nodes and average degree k = 1.5 and p = 0.0075 generated using nx.erdos_renyi_graph(N,p)_"
   ]
  },
  {
   "cell_type": "markdown",
   "metadata": {},
   "source": [
    "**Extract the Giant Connected Component, GCC.**"
   ]
  },
  {
   "cell_type": "code",
   "execution_count": 20,
   "metadata": {},
   "outputs": [
    {
     "name": "stdout",
     "output_type": "stream",
     "text": [
      "Number of nodes in the GCC 134\n",
      "Number of edges in the GCC 142\n"
     ]
    }
   ],
   "source": [
    "# Making a list with all the connected components\n",
    "graphs = (G.subgraph(c) for c in nx.connected_components(G))\n",
    "# Find GCC\n",
    "GCC = max(graphs, key=len)\n",
    "# Find the number of nodes and edges in GCC\n",
    "print(f'Number of nodes in the GCC {GCC.number_of_nodes()}')\n",
    "print(f'Number of edges in the GCC {GCC.number_of_edges()}')"
   ]
  },
  {
   "cell_type": "markdown",
   "metadata": {},
   "source": [
    "**Choose a node at random from the GCC. Find all nodes that are precisely 2 steps away from that node.**"
   ]
  },
  {
   "cell_type": "code",
   "execution_count": 21,
   "metadata": {},
   "outputs": [
    {
     "name": "stdout",
     "output_type": "stream",
     "text": [
      "The chosen random node is 105\n",
      "The nodes there are 2 steps away from the random selected node 105 is [136, 168, 9, 184]\n"
     ]
    }
   ],
   "source": [
    "# Making a list of nodes in GCC\n",
    "GCC_nodes = list(GCC.nodes())\n",
    "\n",
    "# Choosing random node\n",
    "random_node = random.choice(GCC_nodes)\n",
    "print(f'The chosen random node is {random_node}')\n",
    "\n",
    "# Makes a list of nodes which are 2 or less steps away from the random choosen node\n",
    "list_of_paths = nx.single_source_shortest_path_length(GCC,source = random_node,cutoff = 2)\n",
    "\n",
    "# Sorting which nodes there are 2 steps away from the random selected node\n",
    "Nodes_with_distane_2 = []\n",
    "\n",
    "for key, value in list_of_paths.items():\n",
    "    \n",
    "    if value == 2:\n",
    "        Nodes_with_distane_2.append(key)\n",
    "\n",
    "print(f'The nodes there are 2 steps away from the random selected node {random_node} is {Nodes_with_distane_2}')"
   ]
  },
  {
   "cell_type": "markdown",
   "metadata": {},
   "source": [
    "**Plot the GCC with the following choice of colors. Starting node black (\"#000000\"). The nodes 2 steps away red (\"#ff0000\"). All other nodes blue (\"#A0CBE2\").**"
   ]
  },
  {
   "cell_type": "code",
   "execution_count": 22,
   "metadata": {},
   "outputs": [
    {
     "data": {
      "image/png": "[encoded data removed]",
      "text/plain": [
       "<Figure size 432x288 with 1 Axes>"
      ]
     },
     "metadata": {},
     "output_type": "display_data"
    }
   ],
   "source": [
    "# Empty list for colors\n",
    "color_map = [] \n",
    "\n",
    "# Loop to assign colors to the different nodes\n",
    "for node in GCC:\n",
    "    if node in Nodes_with_distane_2:\n",
    "        color_map.append('#ff0000')\n",
    "    elif node == random_node: \n",
    "        color_map.append('#000000')\n",
    "    else:\n",
    "        color_map.append('#A0CBE2')\n",
    "\n",
    "# ploting the graph\n",
    "pos = nx.spring_layout(GCC,k=0.1,iterations=50)\n",
    "nx.draw(GCC, pos, node_color=color_map, with_labels=False, node_size=60)\n",
    "plt.show()"
   ]
  },
  {
   "cell_type": "markdown",
   "metadata": {},
   "source": [
    "_Figure 2_3: GCC plottet with starting node coloured black and the note 2 steps away colored red_"
   ]
  },
  {
   "cell_type": "markdown",
   "metadata": {},
   "source": [
    "## Part 3: Binning degree distributions"
   ]
  },
  {
   "cell_type": "markdown",
   "metadata": {},
   "source": [
    "**Use nx.watts_strogatz_graph to generate 3 graphs with 500 nodes each, average degree = 4, and rewiring probablity $p = 0, 0.1, \\textrm{and} 1$. Calculate the average shortest path length $\\langle d \\rangle$ for each one. Describe what happens to the network when $p = 1$.**"
   ]
  },
  {
   "cell_type": "code",
   "execution_count": 23,
   "metadata": {},
   "outputs": [
    {
     "name": "stdout",
     "output_type": "stream",
     "text": [
      "The shortest path at G0 is 62.875751503006015\n",
      "The shortest path at G0.1 is 8.009274549098196\n",
      "The shortest path at G1 is 4.7629258517034065\n"
     ]
    }
   ],
   "source": [
    "G0 = nx.watts_strogatz_graph(500, 4, 0, seed=None)\n",
    "G01 = nx.watts_strogatz_graph(500, 4, 0.1, seed=None)\n",
    "G1 = nx.watts_strogatz_graph(500, 4, 1, seed=None)\n",
    "print(f\"The shortest path at G0 is {nx.average_shortest_path_length(G0, weight=None)}\")\n",
    "print(f\"The shortest path at G0.1 is {nx.average_shortest_path_length(G01, weight=None)}\")\n",
    "print(f\"The shortest path at G1 is {nx.average_shortest_path_length(G1, weight=None)}\")"
   ]
  },
  {
   "cell_type": "markdown",
   "metadata": {},
   "source": [
    "When p=1, then we are at max randomization in the network. This results in less local clustering, and thereby the average shortest path between nodes is reduced. An example of this is the Six degrees of separation. https://en.wikipedia.org/wiki/Six_degrees_of_separation"
   ]
  },
  {
   "cell_type": "markdown",
   "metadata": {},
   "source": [
    "**Generate 50 networks with $N = 500$, $\\langle k \\rangle = 4$, for each of $p = \\{0, 0.01, 0.03, 0.05, 0.1, 0.2\\}$.** "
   ]
  },
  {
   "cell_type": "code",
   "execution_count": 24,
   "metadata": {},
   "outputs": [],
   "source": [
    "p = [0,0.01,0.03,0.05,0.1,0.2]\n",
    "N , k = 500 , 4\n",
    "p0 , p01 , p03, p05, p1, p2 = [] , [] ,[], [], [], []\n",
    "list_of_list=[p0 , p01 , p03, p05, p1, p2]"
   ]
  },
  {
   "cell_type": "code",
   "execution_count": 25,
   "metadata": {},
   "outputs": [],
   "source": [
    "for i in range(len(p)): #Looping over each value of p\n",
    "    for j in range(50): #Generating 50 networks for current value of p\n",
    "        G = nx.watts_strogatz_graph(500, 4, p[i], seed=None)\n",
    "        list_of_list[i].append(nx.average_shortest_path_length(G, weight=None))"
   ]
  },
  {
   "cell_type": "markdown",
   "metadata": {},
   "source": [
    "**Calculate the average of $\\langle d \\rangle$ as well as the standard deviation over the 50 networks, to create a plot that shows how the path length decreases very quickly with only a little fraction of re-wiring. Use the standard deviation to add errorbars to the plot.**"
   ]
  },
  {
   "cell_type": "code",
   "execution_count": 26,
   "metadata": {},
   "outputs": [],
   "source": [
    "avg_s = []\n",
    "std = []\n",
    "for i in range(len(p)): #Generating avg <d> and strandard deviation\n",
    "    avg_s.append(sum(list_of_list[i])/len(list_of_list[i]))\n",
    "    std.append(statistics.stdev(list_of_list[i]))"
   ]
  },
  {
   "cell_type": "code",
   "execution_count": 27,
   "metadata": {},
   "outputs": [
    {
     "data": {
      "image/png": "[encoded data removed]",
      "text/plain": [
       "<Figure size 432x288 with 1 Axes>"
      ]
     },
     "metadata": {
      "needs_background": "light"
     },
     "output_type": "display_data"
    }
   ],
   "source": [
    "fig, (ax0) = plt.subplots(nrows=1, sharex=True)\n",
    "ax0.errorbar(p, avg_s, yerr=std, fmt='-o')\n",
    "ax0.set_title('avg shortest path lenght as function of p')\n",
    "ax0.set_xlabel('p')\n",
    "ax0.set_ylabel('ave <d>')\n",
    "ax0.grid(zorder=0)"
   ]
  },
  {
   "cell_type": "markdown",
   "metadata": {},
   "source": [
    "_Figure 3_1: The figure shows the average distance between nodes as a function of the rewiring probability p. It is clear that the more random a graph is, the shorter is the average distance between nodes_"
   ]
  },
  {
   "cell_type": "markdown",
   "metadata": {},
   "source": [
    "## Part 4. The Barabasi-Albert Model"
   ]
  },
  {
   "cell_type": "markdown",
   "metadata": {},
   "source": [
    "**Create a 100 node BA network using a BA model that you've coded on your own and plot it using NetworkX.**"
   ]
  },
  {
   "cell_type": "code",
   "execution_count": 28,
   "metadata": {},
   "outputs": [],
   "source": [
    "#Creating a graph with 3 nodes where 1,2 and 2,3 is connected\n",
    "Bi = nx.Graph()\n",
    "Bi.add_edges_from([(1,2),(2,3)])"
   ]
  },
  {
   "cell_type": "code",
   "execution_count": 29,
   "metadata": {},
   "outputs": [],
   "source": [
    "for i in range(4,101,1): \n",
    "    k = np.array([list(Bi.edges())]).flatten() #selecting a node with probability proportional to it's degree\n",
    "    rn=random.choice(k)\n",
    "    Bi.add_edge(rn,i) # Adding an edge between the new node and the random node"
   ]
  },
  {
   "cell_type": "code",
   "execution_count": 30,
   "metadata": {},
   "outputs": [
    {
     "data": {
      "image/png": "[encoded data removed]",
      "text/plain": [
       "<Figure size 432x288 with 1 Axes>"
      ]
     },
     "metadata": {},
     "output_type": "display_data"
    }
   ],
   "source": [
    "nx.draw(Bi, node_size=50)"
   ]
  },
  {
   "cell_type": "markdown",
   "metadata": {},
   "source": [
    "_Figure 4_1: Network created using The Barabasi-Albert model with N=100_"
   ]
  },
  {
   "cell_type": "markdown",
   "metadata": {},
   "source": [
    "**Now create a 5000 node network.**"
   ]
  },
  {
   "cell_type": "code",
   "execution_count": 31,
   "metadata": {},
   "outputs": [],
   "source": [
    "for i in range(100,5001,1): # Same procedure for creating the Barabasi-Albert Model\n",
    "    k = np.array([list(Bi.edges())]).flatten()\n",
    "    rn=random.choice(k)\n",
    "    Bi.add_edge(rn,i)"
   ]
  },
  {
   "cell_type": "markdown",
   "metadata": {},
   "source": [
    "**What's the maximum and minimum degree?**"
   ]
  },
  {
   "cell_type": "code",
   "execution_count": 32,
   "metadata": {},
   "outputs": [
    {
     "name": "stdout",
     "output_type": "stream",
     "text": [
      "The number of nodes is 5000\n",
      "The maximum degree is 143\n",
      "The maximum degree is 1\n"
     ]
    }
   ],
   "source": [
    "deg = list(Bi.degree())\n",
    "deg_values=[]\n",
    "\n",
    "for i in range(len(deg)):\n",
    "    deg_values.append(deg[i][1])\n",
    "print(f\"The number of nodes is {len(Bi.nodes())}\")\n",
    "print(f\"The maximum degree is {max(deg_values)}\")\n",
    "print(f\"The maximum degree is {min(deg_values)}\")"
   ]
  },
  {
   "cell_type": "markdown",
   "metadata": {},
   "source": [
    "**Now, bin the degree distribution, for example using numpy.histogram.\n",
    "Plot the distribution. Plot it with both linear and log-log axes.**"
   ]
  },
  {
   "cell_type": "code",
   "execution_count": 33,
   "metadata": {},
   "outputs": [
    {
     "data": {
      "image/png": "[encoded data removed]",
      "text/plain": [
       "<Figure size 432x288 with 1 Axes>"
      ]
     },
     "metadata": {
      "needs_background": "light"
     },
     "output_type": "display_data"
    }
   ],
   "source": [
    "hist4, bin4 = np.histogram(deg_values, bins=np.unique(deg_values))\n",
    "fig, ax = plt.subplots()\n",
    "ax.bar(bin4[:-1], hist4, width=np.diff(bin4), edgecolor=\"black\")\n",
    "ax.set_ylabel('Count')\n",
    "ax.set_xlabel('k')\n",
    "ax.set_title(\"Degree distribution Barabasi-Albert netowrk\")\n",
    "plt.show()"
   ]
  },
  {
   "cell_type": "markdown",
   "metadata": {},
   "source": [
    "_Figure 4_2: Bar-plot showing the Degree distribution of the Barabasi-Albert-network and manually created bins._"
   ]
  },
  {
   "cell_type": "code",
   "execution_count": 34,
   "metadata": {},
   "outputs": [
    {
     "data": {
      "image/png": "[encoded data removed]",
      "text/plain": [
       "<Figure size 432x288 with 1 Axes>"
      ]
     },
     "metadata": {
      "needs_background": "light"
     },
     "output_type": "display_data"
    }
   ],
   "source": [
    "fig, ax = plt.subplots()\n",
    "ax.bar(bin4[:-1], hist4, width=np.diff(bin4), edgecolor=\"black\")\n",
    "ax.set_xscale('log')\n",
    "ax.set_yscale('log')\n",
    "ax.set_ylabel('Count')\n",
    "ax.set_xlabel('k')\n",
    "ax.set_title(\"Degree distribution Barabasi-Albert netowrk Log-Log axes\")\n",
    "plt.show()"
   ]
  },
  {
   "cell_type": "markdown",
   "metadata": {},
   "source": [
    "_Figure 4_3: Bar-plot showing the Degree distribution of the Barabasi-Albert-network and manually created bins with log transformed axis._"
   ]
  },
  {
   "cell_type": "markdown",
   "metadata": {},
   "source": [
    "## Part 5 Power-laws and the friendship paradox"
   ]
  },
  {
   "cell_type": "markdown",
   "metadata": {},
   "source": [
    "**Let's explore that in the 5000 node BA network we've just generated. Do the following:**"
   ]
  },
  {
   "cell_type": "markdown",
   "metadata": {},
   "source": [
    "**Pick a node i at random (e.g. use random.choice). Find its degree.**"
   ]
  },
  {
   "cell_type": "code",
   "execution_count": 35,
   "metadata": {},
   "outputs": [
    {
     "name": "stdout",
     "output_type": "stream",
     "text": [
      "The random chosen node I is number 4942 and its degree is 1\n"
     ]
    }
   ],
   "source": [
    "nodes=list(Bi.nodes)\n",
    "rn=random.choice(nodes)\n",
    "rn_deg=Bi.degree(rn)\n",
    "print(f\"The random chosen node I is number {rn} and its degree is {rn_deg}\")"
   ]
  },
  {
   "cell_type": "markdown",
   "metadata": {},
   "source": [
    "**Find i's neighbors and calculate their average degree.**"
   ]
  },
  {
   "cell_type": "code",
   "execution_count": 36,
   "metadata": {},
   "outputs": [
    {
     "name": "stdout",
     "output_type": "stream",
     "text": [
      "I's neighbor/s is [11] and their average degree is 38.0\n"
     ]
    }
   ],
   "source": [
    "nb=list(Bi.neighbors(rn))\n",
    "su=0\n",
    "for i in range(len(nb)):\n",
    "    su += Bi.degree(nb[i])\n",
    "print(f\"I's neighbor/s is {nb} and their average degree is {su/len(nb)}\")"
   ]
  },
  {
   "cell_type": "markdown",
   "metadata": {},
   "source": [
    "**Compare the two numbers to check if it's true that i's friends (on average) have more friends than i**"
   ]
  },
  {
   "cell_type": "code",
   "execution_count": 37,
   "metadata": {},
   "outputs": [
    {
     "name": "stdout",
     "output_type": "stream",
     "text": [
      "Yes it is true that in this case I's friends have more friends than I, 38.0 > 1\n"
     ]
    }
   ],
   "source": [
    "if su/len(nb) > rn_deg:\n",
    "    print(f\"Yes it is true that in this case I's friends have more friends than I, {su/len(nb)} > {rn_deg}\")\n",
    "else:\n",
    "    print(f\"No it is not true that in this case I's friends have more friends than I, {su/len(nb)} =< {rn_deg}\")\n",
    "    "
   ]
  },
  {
   "cell_type": "markdown",
   "metadata": {},
   "source": [
    "**Do this 1000 times. How many out of those 1000 times is the friendship paradox true?**"
   ]
  },
  {
   "cell_type": "code",
   "execution_count": 38,
   "metadata": {},
   "outputs": [
    {
     "name": "stdout",
     "output_type": "stream",
     "text": [
      "It's true that I's friends in 87.7% of the times have more friends that I\n"
     ]
    }
   ],
   "source": [
    "k=0\n",
    "for j in range(1000):\n",
    "    su=0\n",
    "    nodes=list(Bi.nodes)\n",
    "    rn=random.choice(nodes)\n",
    "    rn_deg=Bi.degree(rn)\n",
    "    nb=list(Bi.neighbors(rn))\n",
    "    for i in range(len(nb)):\n",
    "        su += Bi.degree(nb[i])\n",
    "    if su/len(nb) > rn_deg:\n",
    "        k+=1\n",
    "        \n",
    "print(f\"It's true that I's friends in {(k/1000)*100}% of the times have more friends that I\")"
   ]
  },
  {
   "cell_type": "markdown",
   "metadata": {},
   "source": [
    "**Finally, we'll build a network of same size and degree, using the growth mechanism without the preferential attachment.**"
   ]
  },
  {
   "cell_type": "code",
   "execution_count": 39,
   "metadata": {},
   "outputs": [],
   "source": [
    "H = nx.Graph()\n",
    "H.add_edges_from([(1,2),(2,3)])\n",
    "i = 2\n",
    "while len(H) < 5000:\n",
    "    i = i + 1\n",
    "    d = random.choice(list(H.nodes()))\n",
    "    H.add_node(i)\n",
    "    H.add_edge(d, i)"
   ]
  },
  {
   "cell_type": "code",
   "execution_count": 40,
   "metadata": {},
   "outputs": [
    {
     "name": "stdout",
     "output_type": "stream",
     "text": [
      "The number of nodes is 5000\n",
      "Maximum degree is: 12\n",
      "Minimum degree is: 1\n"
     ]
    }
   ],
   "source": [
    "degree_sequence = [d for n, d in H.degree()]\n",
    "dmax = max(degree_sequence)\n",
    "print(f\"The number of nodes is {len(list(H.nodes()))}\")\n",
    "print(f\"Maximum degree is: {dmax}\")\n",
    "dmin = min(degree_sequence)\n",
    "print(f\"Minimum degree is: {dmin}\")"
   ]
  },
  {
   "cell_type": "code",
   "execution_count": 41,
   "metadata": {},
   "outputs": [
    {
     "data": {
      "image/png": "[encoded data removed]",
      "text/plain": [
       "<Figure size 432x288 with 1 Axes>"
      ]
     },
     "metadata": {
      "needs_background": "light"
     },
     "output_type": "display_data"
    }
   ],
   "source": [
    "hist, bins = np.histogram(degree_sequence,bins=np.unique(degree_sequence))\n",
    "fig, ax = plt.subplots()\n",
    "ax.bar(bins[:-1], hist, width=np.diff(bins), edgecolor=\"black\", align=\"edge\")\n",
    "ax.set_ylabel('Count')\n",
    "ax.set_xlabel('k')\n",
    "ax.set_title(\"Degree distribution - Network without preferential attachment\")\n",
    "plt.show() "
   ]
  },
  {
   "cell_type": "markdown",
   "metadata": {},
   "source": [
    "_Figure 5_1: Bar-plot showing the Degree distribution of the network build without preferential attachment and manually created bins._"
   ]
  },
  {
   "cell_type": "code",
   "execution_count": 42,
   "metadata": {},
   "outputs": [
    {
     "data": {
      "image/png": "[encoded data removed]",
      "text/plain": [
       "<Figure size 432x288 with 1 Axes>"
      ]
     },
     "metadata": {
      "needs_background": "light"
     },
     "output_type": "display_data"
    }
   ],
   "source": [
    "fig, ax = plt.subplots()\n",
    "ax.bar(bins[:-1], hist, width=np.diff(bins), edgecolor=\"black\", align=\"edge\")\n",
    "ax.set_xscale('log')\n",
    "ax.set_yscale('log')\n",
    "ax.set_ylabel('Count')\n",
    "ax.set_xlabel('k')\n",
    "ax.set_title(\"DDegree distribution - Network without preferential attachment Log-Log axes\")\n",
    "plt.show()"
   ]
  },
  {
   "cell_type": "markdown",
   "metadata": {},
   "source": [
    "_Figure 5_2: Bar-plot showing the Degree distribution of the network build without preferential attachment and manually created bins and log transformed axes._"
   ]
  },
  {
   "cell_type": "markdown",
   "metadata": {},
   "source": [
    "**Compare to the ER network of same size and same $p$. What are the differences? Explain in your own words.**"
   ]
  },
  {
   "cell_type": "code",
   "execution_count": 43,
   "metadata": {},
   "outputs": [
    {
     "name": "stdout",
     "output_type": "stream",
     "text": [
      "Barabasi-Albert network\n",
      "The maximum degree is 143\n",
      "The maximum degree is 1\n",
      "The average degree is 2.0\n"
     ]
    }
   ],
   "source": [
    "print(\"Barabasi-Albert network\")\n",
    "print(f\"The maximum degree is {max(deg_values)}\")\n",
    "print(f\"The maximum degree is {min(deg_values)}\")\n",
    "print(f\"The average degree is {sum(deg_values)/n}\")"
   ]
  },
  {
   "cell_type": "code",
   "execution_count": 44,
   "metadata": {},
   "outputs": [
    {
     "name": "stdout",
     "output_type": "stream",
     "text": [
      "ER-netowrk\n",
      "Maximum degree is: 12\n",
      "Minimum degree is: 1\n",
      "The average degree is 1.9996\n"
     ]
    }
   ],
   "source": [
    "print(\"ER-netowrk\")\n",
    "print(f\"Maximum degree is: {dmax}\")\n",
    "print(f\"Minimum degree is: {dmin}\")\n",
    "print(f\"The average degree is {sum(degree_sequence)/n}\")"
   ]
  },
  {
   "cell_type": "markdown",
   "metadata": {},
   "source": [
    "The differences between the two networks can be seen in the degree distribution. The BA network growth depends on preferential attachment (Network Science by Albert-Laszlo Barabasi section 5.3). Therefore the BA network is more likely to have few nodes with really high degrees and a lot of nodes with a degree of 1. \n",
    "For the ER network, where a nodes link is selected at random, the degree distribution is more binomial distributed. That means there are a lower max degree value and there are more nodes with medium degree values"
   ]
  },
  {
   "cell_type": "markdown",
   "metadata": {},
   "source": [
    "Since we are building the 2 networks from a network with 2 nodes and 1 edge, and we always add an edge between the new nodes, and an existing node both graphs will be one giant connected component."
   ]
  }
 ],
 "metadata": {
  "kernelspec": {
   "display_name": "Python 3",
   "language": "python",
   "name": "python3"
  },
  "language_info": {
   "codemirror_mode": {
    "name": "ipython",
    "version": 3
   },
   "file_extension": ".py",
   "mimetype": "text/x-python",
   "name": "python",
   "nbconvert_exporter": "python",
   "pygments_lexer": "ipython3",
   "version": "3.7.1"
  }
 },
 "nbformat": 4,
 "nbformat_minor": 2
}
